{
 "cells": [
  {
   "cell_type": "code",
   "execution_count": 203,
   "id": "b9c8f3ce",
   "metadata": {},
   "outputs": [],
   "source": [
    "import math\n",
    "import pandas as pd\n",
    "import numpy as np\n",
    "from operator import itemgetter\n",
    "import matplotlib.pyplot as plt\n",
    "import seaborn as sns\n",
    "\n",
    "from sklearn.model_selection import train_test_split\n",
    "import sklearn.metrics as metrics\n",
    "from sklearn import tree\n",
    "from sklearn.tree import _tree\n",
    "\n",
    "from sklearn.ensemble import RandomForestRegressor \n",
    "from sklearn.ensemble import RandomForestClassifier \n",
    "from sklearn.ensemble import GradientBoostingRegressor \n",
    "from sklearn.ensemble import GradientBoostingClassifier "
   ]
  },
  {
   "cell_type": "markdown",
   "id": "710a5d56",
   "metadata": {},
   "source": [
    "### Data Cleaning from Week 1"
   ]
  },
  {
   "cell_type": "code",
   "execution_count": 204,
   "id": "55101fdf",
   "metadata": {},
   "outputs": [],
   "source": [
    "file_loc = ('/Users/juhwikim/Desktop/MSDS/422 Machine Learning/HMEQ_Loss.csv')\n",
    "\n",
    "df = pd.read_csv(file_loc)"
   ]
  },
  {
   "cell_type": "code",
   "execution_count": 205,
   "id": "5399f4e2",
   "metadata": {},
   "outputs": [],
   "source": [
    "dt = df.dtypes\n",
    "\n",
    "objList = []\n",
    "numList = []\n",
    "\n",
    "for i in dt.index:\n",
    "    if i in([\"TARGET_BAD_FLAG\",\"TARGET_LOSS_AMT\"]): continue\n",
    "    if dt[i] in ([\"float64\",\"int64\"]): numList.append(i)\n",
    "    if dt[i] in ([\"object\"]): objList.append(i)\n"
   ]
  },
  {
   "cell_type": "code",
   "execution_count": 206,
   "id": "38a59ec0",
   "metadata": {},
   "outputs": [],
   "source": [
    "for i in objList :\n",
    "    if df[i].isna().sum() == 0 : continue\n",
    "    NAME = \"IMP_\"+i\n",
    "    df[NAME] = df[i]"
   ]
  },
  {
   "cell_type": "code",
   "execution_count": 207,
   "id": "0301803b",
   "metadata": {},
   "outputs": [],
   "source": [
    "df['IMP_REASON'] = df['REASON'].fillna(\"Missing\")"
   ]
  },
  {
   "cell_type": "code",
   "execution_count": 208,
   "id": "910a6ca9",
   "metadata": {},
   "outputs": [],
   "source": [
    "df['IMP_JOB'] = df['JOB'].fillna(df['JOB'].mode()[0] )"
   ]
  },
  {
   "cell_type": "code",
   "execution_count": 209,
   "id": "401b1772",
   "metadata": {},
   "outputs": [],
   "source": [
    "df[\"REASON_DEBTCON\"] = (df.IMP_REASON.isin( [\"DebtCon\"] ) + 0 )\n",
    "df[\"REASON_HOMEIMP\"] = (df.IMP_REASON.isin( [\"HomeImp\"] ) + 0 )\n",
    "df[\"REASON_MISSING\"] = (df.IMP_REASON.isin( [\"Missing\"] ) + 0 )"
   ]
  },
  {
   "cell_type": "code",
   "execution_count": 210,
   "id": "07b67887",
   "metadata": {},
   "outputs": [],
   "source": [
    "df[\"JOB_Mgr\"] = (df.IMP_JOB.isin( [\"Mgr\"] ) + 0 )\n",
    "df[\"JOB_Office\"] = (df.IMP_JOB.isin( [\"Office\"] ) + 0 )\n",
    "df[\"JOB_Other\"] = (df.IMP_JOB.isin( [\"Other\"] ) + 0 )\n",
    "df[\"JOB_ProfExe\"] = (df.IMP_JOB.isin( [\"ProfExe\"] ) + 0 )\n",
    "df[\"JOB_Sales\"] = (df.IMP_JOB.isin( [\"Sales\"] ) + 0 )\n",
    "df[\"JOB_Self\"] = (df.IMP_JOB.isin( [\"Self\"] ) + 0 )"
   ]
  },
  {
   "cell_type": "code",
   "execution_count": 211,
   "id": "e7802ed7",
   "metadata": {},
   "outputs": [],
   "source": [
    "#Drop older columns:\n",
    "df = df.drop( \"REASON\", axis=1 )\n",
    "df = df.drop( \"IMP_REASON\", axis=1 )\n",
    "df = df.drop( \"JOB\", axis=1 )\n",
    "df = df.drop( \"IMP_JOB\", axis=1 )"
   ]
  },
  {
   "cell_type": "code",
   "execution_count": 212,
   "id": "bc900b8d",
   "metadata": {},
   "outputs": [],
   "source": [
    "for i in numList :    \n",
    "    if df[i].isna().sum() == 0 : continue    \n",
    "    FLAG = \"M_\" + i    \n",
    "    IMP = \"IMP_\" + i      \n",
    "    df[ FLAG ] = df[i].isna() + 0    \n",
    "    df[ IMP ] = df[ i ]    \n",
    "    df.loc[ df[IMP].isna(), IMP ] = df[i].median()    \n",
    "    df = df.drop( i, axis=1 )"
   ]
  },
  {
   "cell_type": "markdown",
   "id": "dfe6dc80",
   "metadata": {},
   "source": [
    "### Data Preparation for Decision Tree"
   ]
  },
  {
   "cell_type": "code",
   "execution_count": 213,
   "id": "504d9b81",
   "metadata": {},
   "outputs": [
    {
     "name": "stdout",
     "output_type": "stream",
     "text": [
      "<class 'pandas.core.frame.DataFrame'>\n",
      "RangeIndex: 5960 entries, 0 to 5959\n",
      "Data columns (total 30 columns):\n",
      " #   Column           Non-Null Count  Dtype  \n",
      "---  ------           --------------  -----  \n",
      " 0   TARGET_BAD_FLAG  5960 non-null   int64  \n",
      " 1   TARGET_LOSS_AMT  1189 non-null   float64\n",
      " 2   LOAN             5960 non-null   int64  \n",
      " 3   REASON_DEBTCON   5960 non-null   int64  \n",
      " 4   REASON_HOMEIMP   5960 non-null   int64  \n",
      " 5   REASON_MISSING   5960 non-null   int64  \n",
      " 6   JOB_Mgr          5960 non-null   int64  \n",
      " 7   JOB_Office       5960 non-null   int64  \n",
      " 8   JOB_Other        5960 non-null   int64  \n",
      " 9   JOB_ProfExe      5960 non-null   int64  \n",
      " 10  JOB_Sales        5960 non-null   int64  \n",
      " 11  JOB_Self         5960 non-null   int64  \n",
      " 12  M_MORTDUE        5960 non-null   int64  \n",
      " 13  IMP_MORTDUE      5960 non-null   float64\n",
      " 14  M_VALUE          5960 non-null   int64  \n",
      " 15  IMP_VALUE        5960 non-null   float64\n",
      " 16  M_YOJ            5960 non-null   int64  \n",
      " 17  IMP_YOJ          5960 non-null   float64\n",
      " 18  M_DEROG          5960 non-null   int64  \n",
      " 19  IMP_DEROG        5960 non-null   float64\n",
      " 20  M_DELINQ         5960 non-null   int64  \n",
      " 21  IMP_DELINQ       5960 non-null   float64\n",
      " 22  M_CLAGE          5960 non-null   int64  \n",
      " 23  IMP_CLAGE        5960 non-null   float64\n",
      " 24  M_NINQ           5960 non-null   int64  \n",
      " 25  IMP_NINQ         5960 non-null   float64\n",
      " 26  M_CLNO           5960 non-null   int64  \n",
      " 27  IMP_CLNO         5960 non-null   float64\n",
      " 28  M_DEBTINC        5960 non-null   int64  \n",
      " 29  IMP_DEBTINC      5960 non-null   float64\n",
      "dtypes: float64(10), int64(20)\n",
      "memory usage: 1.4 MB\n"
     ]
    }
   ],
   "source": [
    "df.info()"
   ]
  },
  {
   "cell_type": "markdown",
   "id": "194a68c8",
   "metadata": {},
   "source": [
    "### Split Data"
   ]
  },
  {
   "cell_type": "code",
   "execution_count": 214,
   "id": "b1fba77d",
   "metadata": {
    "scrolled": false
   },
   "outputs": [
    {
     "name": "stdout",
     "output_type": "stream",
     "text": [
      "FLAG DATA\n",
      "TRAINING =  (4768, 28)\n",
      "TEST =  (1192, 28)\n",
      "       TARGET_BAD_FLAG  TARGET_LOSS_AMT\n",
      "count            941.0       941.000000\n",
      "mean               1.0     13421.645058\n",
      "std                0.0     10662.481428\n",
      "min                1.0       224.000000\n",
      "25%                1.0      5817.000000\n",
      "50%                1.0     10959.000000\n",
      "75%                1.0     17635.000000\n",
      "max                1.0     73946.000000\n",
      "       TARGET_BAD_FLAG  TARGET_LOSS_AMT\n",
      "count            248.0       248.000000\n",
      "mean               1.0     13387.758065\n",
      "std                0.0     11508.703991\n",
      "min                1.0       320.000000\n",
      "25%                1.0      5214.500000\n",
      "50%                1.0     11336.500000\n",
      "75%                1.0     16734.000000\n",
      "max                1.0     78987.000000\n",
      "\n",
      "\n",
      "\n"
     ]
    }
   ],
   "source": [
    "X = df.copy()\n",
    "X = X.drop( \"TARGET_BAD_FLAG\", axis=1 )\n",
    "X = X.drop( \"TARGET_LOSS_AMT\", axis=1 )\n",
    "Y = df[ [\"TARGET_BAD_FLAG\", \"TARGET_LOSS_AMT\"] ]\n",
    "X_train, X_test, Y_train, Y_test = train_test_split(X, Y, train_size=0.8, test_size=0.2, random_state=1)\n",
    "#X_train, X_test, Y_train, Y_test = train_test_split(X, Y, train_size=0.8, test_size=0.2 )\n",
    "\n",
    "print( \"FLAG DATA\" )\n",
    "print( \"TRAINING = \", X_train.shape )\n",
    "print( \"TEST = \", X_test.shape )\n",
    "\n",
    "F = ~ Y_train[ \"TARGET_LOSS_AMT\" ].isna()\n",
    "W_train = X_train[F].copy()\n",
    "Z_train = Y_train[F].copy()\n",
    "F = ~ Y_test[ \"TARGET_LOSS_AMT\" ].isna()\n",
    "W_test = X_test[F].copy()\n",
    "Z_test = Y_test[F].copy()\n",
    "print( Z_train.describe() )\n",
    "print( Z_test.describe() )\n",
    "print( \"\\n\\n\")"
   ]
  },
  {
   "cell_type": "markdown",
   "id": "1ff6e00e",
   "metadata": {},
   "source": [
    "When examining the Target Loss Amount in both Train and Test data sets, the maximum amount of 73946 and 78987 are both way above the mean amount of 10662 and 13387. Therefore, Both data sets includes outliers. Although Tree Models are prone to outliers, the output models will need to be examined for possible outlier imputation. "
   ]
  },
  {
   "cell_type": "code",
   "execution_count": 215,
   "id": "743a963e",
   "metadata": {},
   "outputs": [
    {
     "name": "stdout",
     "output_type": "stream",
     "text": [
      "       TARGET_BAD_FLAG  TARGET_LOSS_AMT\n",
      "count            941.0       941.000000\n",
      "mean               1.0     12163.315622\n",
      "std                0.0      7584.525527\n",
      "min                1.0       224.000000\n",
      "25%                1.0      5817.000000\n",
      "50%                1.0     10959.000000\n",
      "75%                1.0     17635.000000\n",
      "max                1.0     25000.000000\n",
      "       TARGET_BAD_FLAG  TARGET_LOSS_AMT\n",
      "count            248.0       248.000000\n",
      "mean               1.0     11946.959677\n",
      "std                0.0      7549.372558\n",
      "min                1.0       320.000000\n",
      "25%                1.0      5214.500000\n",
      "50%                1.0     11336.500000\n",
      "75%                1.0     16734.000000\n",
      "max                1.0     25000.000000\n",
      "\n",
      "\n",
      "\n",
      " ====== \n",
      "AMOUNT DATA\n",
      "TRAINING =  (941, 28)\n",
      "TEST =  (248, 2)\n"
     ]
    }
   ],
   "source": [
    "F = Z_train[ \"TARGET_LOSS_AMT\" ] > 25000\n",
    "Z_train.loc[ F, \"TARGET_LOSS_AMT\" ] = 25000\n",
    "F = Z_test[ \"TARGET_LOSS_AMT\" ] > 25000\n",
    "Z_test.loc[ F, [\"TARGET_LOSS_AMT\"] ] = 25000\n",
    "print( Z_train.describe() )\n",
    "print( Z_test.describe() )\n",
    "print( \"\\n\\n\")\n",
    "print( \" ====== \")\n",
    "\n",
    "print( \"AMOUNT DATA\" )\n",
    "print( \"TRAINING = \", W_train.shape )\n",
    "print( \"TEST = \", Z_test.shape )"
   ]
  },
  {
   "cell_type": "code",
   "execution_count": 216,
   "id": "df44759a",
   "metadata": {},
   "outputs": [
    {
     "data": {
      "text/html": [
       "<div>\n",
       "<style scoped>\n",
       "    .dataframe tbody tr th:only-of-type {\n",
       "        vertical-align: middle;\n",
       "    }\n",
       "\n",
       "    .dataframe tbody tr th {\n",
       "        vertical-align: top;\n",
       "    }\n",
       "\n",
       "    .dataframe thead th {\n",
       "        text-align: right;\n",
       "    }\n",
       "</style>\n",
       "<table border=\"1\" class=\"dataframe\">\n",
       "  <thead>\n",
       "    <tr style=\"text-align: right;\">\n",
       "      <th></th>\n",
       "      <th>TARGET_BAD_FLAG</th>\n",
       "      <th>TARGET_LOSS_AMT</th>\n",
       "    </tr>\n",
       "  </thead>\n",
       "  <tbody>\n",
       "    <tr>\n",
       "      <th>5292</th>\n",
       "      <td>1</td>\n",
       "      <td>31053.0</td>\n",
       "    </tr>\n",
       "    <tr>\n",
       "      <th>1162</th>\n",
       "      <td>0</td>\n",
       "      <td>NaN</td>\n",
       "    </tr>\n",
       "    <tr>\n",
       "      <th>2355</th>\n",
       "      <td>0</td>\n",
       "      <td>NaN</td>\n",
       "    </tr>\n",
       "    <tr>\n",
       "      <th>3620</th>\n",
       "      <td>0</td>\n",
       "      <td>NaN</td>\n",
       "    </tr>\n",
       "    <tr>\n",
       "      <th>1247</th>\n",
       "      <td>0</td>\n",
       "      <td>NaN</td>\n",
       "    </tr>\n",
       "  </tbody>\n",
       "</table>\n",
       "</div>"
      ],
      "text/plain": [
       "      TARGET_BAD_FLAG  TARGET_LOSS_AMT\n",
       "5292                1          31053.0\n",
       "1162                0              NaN\n",
       "2355                0              NaN\n",
       "3620                0              NaN\n",
       "1247                0              NaN"
      ]
     },
     "execution_count": 216,
     "metadata": {},
     "output_type": "execute_result"
    }
   ],
   "source": [
    "Y_train.head()"
   ]
  },
  {
   "cell_type": "code",
   "execution_count": 217,
   "id": "c78d75b1",
   "metadata": {},
   "outputs": [
    {
     "data": {
      "text/html": [
       "<div>\n",
       "<style scoped>\n",
       "    .dataframe tbody tr th:only-of-type {\n",
       "        vertical-align: middle;\n",
       "    }\n",
       "\n",
       "    .dataframe tbody tr th {\n",
       "        vertical-align: top;\n",
       "    }\n",
       "\n",
       "    .dataframe thead th {\n",
       "        text-align: right;\n",
       "    }\n",
       "</style>\n",
       "<table border=\"1\" class=\"dataframe\">\n",
       "  <thead>\n",
       "    <tr style=\"text-align: right;\">\n",
       "      <th></th>\n",
       "      <th>TARGET_BAD_FLAG</th>\n",
       "      <th>TARGET_LOSS_AMT</th>\n",
       "    </tr>\n",
       "  </thead>\n",
       "  <tbody>\n",
       "    <tr>\n",
       "      <th>5292</th>\n",
       "      <td>1</td>\n",
       "      <td>25000.0</td>\n",
       "    </tr>\n",
       "    <tr>\n",
       "      <th>3573</th>\n",
       "      <td>1</td>\n",
       "      <td>3813.0</td>\n",
       "    </tr>\n",
       "    <tr>\n",
       "      <th>5567</th>\n",
       "      <td>1</td>\n",
       "      <td>12400.0</td>\n",
       "    </tr>\n",
       "    <tr>\n",
       "      <th>1735</th>\n",
       "      <td>1</td>\n",
       "      <td>10997.0</td>\n",
       "    </tr>\n",
       "    <tr>\n",
       "      <th>5818</th>\n",
       "      <td>1</td>\n",
       "      <td>25000.0</td>\n",
       "    </tr>\n",
       "  </tbody>\n",
       "</table>\n",
       "</div>"
      ],
      "text/plain": [
       "      TARGET_BAD_FLAG  TARGET_LOSS_AMT\n",
       "5292                1          25000.0\n",
       "3573                1           3813.0\n",
       "5567                1          12400.0\n",
       "1735                1          10997.0\n",
       "5818                1          25000.0"
      ]
     },
     "execution_count": 217,
     "metadata": {},
     "output_type": "execute_result"
    }
   ],
   "source": [
    "Z_train.head()"
   ]
  },
  {
   "cell_type": "code",
   "execution_count": 218,
   "id": "8e4f3e72",
   "metadata": {
    "scrolled": true
   },
   "outputs": [
    {
     "data": {
      "text/html": [
       "<div>\n",
       "<style scoped>\n",
       "    .dataframe tbody tr th:only-of-type {\n",
       "        vertical-align: middle;\n",
       "    }\n",
       "\n",
       "    .dataframe tbody tr th {\n",
       "        vertical-align: top;\n",
       "    }\n",
       "\n",
       "    .dataframe thead th {\n",
       "        text-align: right;\n",
       "    }\n",
       "</style>\n",
       "<table border=\"1\" class=\"dataframe\">\n",
       "  <thead>\n",
       "    <tr style=\"text-align: right;\">\n",
       "      <th></th>\n",
       "      <th>LOAN</th>\n",
       "      <th>REASON_DEBTCON</th>\n",
       "      <th>REASON_HOMEIMP</th>\n",
       "      <th>REASON_MISSING</th>\n",
       "      <th>JOB_Mgr</th>\n",
       "      <th>JOB_Office</th>\n",
       "      <th>JOB_Other</th>\n",
       "      <th>JOB_ProfExe</th>\n",
       "      <th>JOB_Sales</th>\n",
       "      <th>JOB_Self</th>\n",
       "      <th>...</th>\n",
       "      <th>M_DELINQ</th>\n",
       "      <th>IMP_DELINQ</th>\n",
       "      <th>M_CLAGE</th>\n",
       "      <th>IMP_CLAGE</th>\n",
       "      <th>M_NINQ</th>\n",
       "      <th>IMP_NINQ</th>\n",
       "      <th>M_CLNO</th>\n",
       "      <th>IMP_CLNO</th>\n",
       "      <th>M_DEBTINC</th>\n",
       "      <th>IMP_DEBTINC</th>\n",
       "    </tr>\n",
       "  </thead>\n",
       "  <tbody>\n",
       "    <tr>\n",
       "      <th>5292</th>\n",
       "      <td>29000</td>\n",
       "      <td>1</td>\n",
       "      <td>0</td>\n",
       "      <td>0</td>\n",
       "      <td>0</td>\n",
       "      <td>0</td>\n",
       "      <td>1</td>\n",
       "      <td>0</td>\n",
       "      <td>0</td>\n",
       "      <td>0</td>\n",
       "      <td>...</td>\n",
       "      <td>0</td>\n",
       "      <td>6.0</td>\n",
       "      <td>0</td>\n",
       "      <td>114.666667</td>\n",
       "      <td>0</td>\n",
       "      <td>4.0</td>\n",
       "      <td>0</td>\n",
       "      <td>12.0</td>\n",
       "      <td>1</td>\n",
       "      <td>34.818262</td>\n",
       "    </tr>\n",
       "    <tr>\n",
       "      <th>1162</th>\n",
       "      <td>10000</td>\n",
       "      <td>0</td>\n",
       "      <td>1</td>\n",
       "      <td>0</td>\n",
       "      <td>0</td>\n",
       "      <td>0</td>\n",
       "      <td>1</td>\n",
       "      <td>0</td>\n",
       "      <td>0</td>\n",
       "      <td>0</td>\n",
       "      <td>...</td>\n",
       "      <td>0</td>\n",
       "      <td>1.0</td>\n",
       "      <td>0</td>\n",
       "      <td>121.733333</td>\n",
       "      <td>0</td>\n",
       "      <td>0.0</td>\n",
       "      <td>0</td>\n",
       "      <td>23.0</td>\n",
       "      <td>1</td>\n",
       "      <td>34.818262</td>\n",
       "    </tr>\n",
       "    <tr>\n",
       "      <th>2355</th>\n",
       "      <td>14200</td>\n",
       "      <td>1</td>\n",
       "      <td>0</td>\n",
       "      <td>0</td>\n",
       "      <td>1</td>\n",
       "      <td>0</td>\n",
       "      <td>0</td>\n",
       "      <td>0</td>\n",
       "      <td>0</td>\n",
       "      <td>0</td>\n",
       "      <td>...</td>\n",
       "      <td>1</td>\n",
       "      <td>0.0</td>\n",
       "      <td>0</td>\n",
       "      <td>255.687648</td>\n",
       "      <td>0</td>\n",
       "      <td>2.0</td>\n",
       "      <td>0</td>\n",
       "      <td>41.0</td>\n",
       "      <td>0</td>\n",
       "      <td>38.746760</td>\n",
       "    </tr>\n",
       "    <tr>\n",
       "      <th>3620</th>\n",
       "      <td>19000</td>\n",
       "      <td>1</td>\n",
       "      <td>0</td>\n",
       "      <td>0</td>\n",
       "      <td>0</td>\n",
       "      <td>1</td>\n",
       "      <td>0</td>\n",
       "      <td>0</td>\n",
       "      <td>0</td>\n",
       "      <td>0</td>\n",
       "      <td>...</td>\n",
       "      <td>1</td>\n",
       "      <td>0.0</td>\n",
       "      <td>0</td>\n",
       "      <td>175.500000</td>\n",
       "      <td>1</td>\n",
       "      <td>1.0</td>\n",
       "      <td>0</td>\n",
       "      <td>16.0</td>\n",
       "      <td>1</td>\n",
       "      <td>34.818262</td>\n",
       "    </tr>\n",
       "    <tr>\n",
       "      <th>1247</th>\n",
       "      <td>10200</td>\n",
       "      <td>0</td>\n",
       "      <td>1</td>\n",
       "      <td>0</td>\n",
       "      <td>0</td>\n",
       "      <td>0</td>\n",
       "      <td>0</td>\n",
       "      <td>1</td>\n",
       "      <td>0</td>\n",
       "      <td>0</td>\n",
       "      <td>...</td>\n",
       "      <td>0</td>\n",
       "      <td>0.0</td>\n",
       "      <td>0</td>\n",
       "      <td>100.629664</td>\n",
       "      <td>0</td>\n",
       "      <td>0.0</td>\n",
       "      <td>0</td>\n",
       "      <td>34.0</td>\n",
       "      <td>0</td>\n",
       "      <td>37.361514</td>\n",
       "    </tr>\n",
       "  </tbody>\n",
       "</table>\n",
       "<p>5 rows × 28 columns</p>\n",
       "</div>"
      ],
      "text/plain": [
       "       LOAN  REASON_DEBTCON  REASON_HOMEIMP  REASON_MISSING  JOB_Mgr  \\\n",
       "5292  29000               1               0               0        0   \n",
       "1162  10000               0               1               0        0   \n",
       "2355  14200               1               0               0        1   \n",
       "3620  19000               1               0               0        0   \n",
       "1247  10200               0               1               0        0   \n",
       "\n",
       "      JOB_Office  JOB_Other  JOB_ProfExe  JOB_Sales  JOB_Self  ...  M_DELINQ  \\\n",
       "5292           0          1            0          0         0  ...         0   \n",
       "1162           0          1            0          0         0  ...         0   \n",
       "2355           0          0            0          0         0  ...         1   \n",
       "3620           1          0            0          0         0  ...         1   \n",
       "1247           0          0            1          0         0  ...         0   \n",
       "\n",
       "      IMP_DELINQ  M_CLAGE   IMP_CLAGE  M_NINQ  IMP_NINQ  M_CLNO  IMP_CLNO  \\\n",
       "5292         6.0        0  114.666667       0       4.0       0      12.0   \n",
       "1162         1.0        0  121.733333       0       0.0       0      23.0   \n",
       "2355         0.0        0  255.687648       0       2.0       0      41.0   \n",
       "3620         0.0        0  175.500000       1       1.0       0      16.0   \n",
       "1247         0.0        0  100.629664       0       0.0       0      34.0   \n",
       "\n",
       "      M_DEBTINC  IMP_DEBTINC  \n",
       "5292          1    34.818262  \n",
       "1162          1    34.818262  \n",
       "2355          0    38.746760  \n",
       "3620          1    34.818262  \n",
       "1247          0    37.361514  \n",
       "\n",
       "[5 rows x 28 columns]"
      ]
     },
     "execution_count": 218,
     "metadata": {},
     "output_type": "execute_result"
    }
   ],
   "source": [
    "X_train.head()"
   ]
  },
  {
   "cell_type": "code",
   "execution_count": 219,
   "id": "6351079a",
   "metadata": {},
   "outputs": [
    {
     "data": {
      "text/html": [
       "<div>\n",
       "<style scoped>\n",
       "    .dataframe tbody tr th:only-of-type {\n",
       "        vertical-align: middle;\n",
       "    }\n",
       "\n",
       "    .dataframe tbody tr th {\n",
       "        vertical-align: top;\n",
       "    }\n",
       "\n",
       "    .dataframe thead th {\n",
       "        text-align: right;\n",
       "    }\n",
       "</style>\n",
       "<table border=\"1\" class=\"dataframe\">\n",
       "  <thead>\n",
       "    <tr style=\"text-align: right;\">\n",
       "      <th></th>\n",
       "      <th>TARGET_BAD_FLAG</th>\n",
       "      <th>TARGET_LOSS_AMT</th>\n",
       "    </tr>\n",
       "  </thead>\n",
       "  <tbody>\n",
       "    <tr>\n",
       "      <th>4146</th>\n",
       "      <td>1</td>\n",
       "      <td>23515.0</td>\n",
       "    </tr>\n",
       "    <tr>\n",
       "      <th>4103</th>\n",
       "      <td>0</td>\n",
       "      <td>NaN</td>\n",
       "    </tr>\n",
       "    <tr>\n",
       "      <th>5439</th>\n",
       "      <td>0</td>\n",
       "      <td>NaN</td>\n",
       "    </tr>\n",
       "    <tr>\n",
       "      <th>997</th>\n",
       "      <td>0</td>\n",
       "      <td>NaN</td>\n",
       "    </tr>\n",
       "    <tr>\n",
       "      <th>5908</th>\n",
       "      <td>0</td>\n",
       "      <td>NaN</td>\n",
       "    </tr>\n",
       "  </tbody>\n",
       "</table>\n",
       "</div>"
      ],
      "text/plain": [
       "      TARGET_BAD_FLAG  TARGET_LOSS_AMT\n",
       "4146                1          23515.0\n",
       "4103                0              NaN\n",
       "5439                0              NaN\n",
       "997                 0              NaN\n",
       "5908                0              NaN"
      ]
     },
     "execution_count": 219,
     "metadata": {},
     "output_type": "execute_result"
    }
   ],
   "source": [
    "Y_test.head()"
   ]
  },
  {
   "cell_type": "code",
   "execution_count": 220,
   "id": "c8ad4262",
   "metadata": {},
   "outputs": [
    {
     "data": {
      "text/html": [
       "<div>\n",
       "<style scoped>\n",
       "    .dataframe tbody tr th:only-of-type {\n",
       "        vertical-align: middle;\n",
       "    }\n",
       "\n",
       "    .dataframe tbody tr th {\n",
       "        vertical-align: top;\n",
       "    }\n",
       "\n",
       "    .dataframe thead th {\n",
       "        text-align: right;\n",
       "    }\n",
       "</style>\n",
       "<table border=\"1\" class=\"dataframe\">\n",
       "  <thead>\n",
       "    <tr style=\"text-align: right;\">\n",
       "      <th></th>\n",
       "      <th>LOAN</th>\n",
       "      <th>REASON_DEBTCON</th>\n",
       "      <th>REASON_HOMEIMP</th>\n",
       "      <th>REASON_MISSING</th>\n",
       "      <th>JOB_Mgr</th>\n",
       "      <th>JOB_Office</th>\n",
       "      <th>JOB_Other</th>\n",
       "      <th>JOB_ProfExe</th>\n",
       "      <th>JOB_Sales</th>\n",
       "      <th>JOB_Self</th>\n",
       "      <th>...</th>\n",
       "      <th>M_DELINQ</th>\n",
       "      <th>IMP_DELINQ</th>\n",
       "      <th>M_CLAGE</th>\n",
       "      <th>IMP_CLAGE</th>\n",
       "      <th>M_NINQ</th>\n",
       "      <th>IMP_NINQ</th>\n",
       "      <th>M_CLNO</th>\n",
       "      <th>IMP_CLNO</th>\n",
       "      <th>M_DEBTINC</th>\n",
       "      <th>IMP_DEBTINC</th>\n",
       "    </tr>\n",
       "  </thead>\n",
       "  <tbody>\n",
       "    <tr>\n",
       "      <th>4146</th>\n",
       "      <td>21600</td>\n",
       "      <td>1</td>\n",
       "      <td>0</td>\n",
       "      <td>0</td>\n",
       "      <td>0</td>\n",
       "      <td>0</td>\n",
       "      <td>0</td>\n",
       "      <td>0</td>\n",
       "      <td>0</td>\n",
       "      <td>1</td>\n",
       "      <td>...</td>\n",
       "      <td>0</td>\n",
       "      <td>4.0</td>\n",
       "      <td>0</td>\n",
       "      <td>165.600830</td>\n",
       "      <td>0</td>\n",
       "      <td>0.0</td>\n",
       "      <td>0</td>\n",
       "      <td>43.0</td>\n",
       "      <td>0</td>\n",
       "      <td>38.014917</td>\n",
       "    </tr>\n",
       "    <tr>\n",
       "      <th>4103</th>\n",
       "      <td>21400</td>\n",
       "      <td>0</td>\n",
       "      <td>1</td>\n",
       "      <td>0</td>\n",
       "      <td>1</td>\n",
       "      <td>0</td>\n",
       "      <td>0</td>\n",
       "      <td>0</td>\n",
       "      <td>0</td>\n",
       "      <td>0</td>\n",
       "      <td>...</td>\n",
       "      <td>0</td>\n",
       "      <td>0.0</td>\n",
       "      <td>0</td>\n",
       "      <td>314.984287</td>\n",
       "      <td>0</td>\n",
       "      <td>0.0</td>\n",
       "      <td>0</td>\n",
       "      <td>17.0</td>\n",
       "      <td>0</td>\n",
       "      <td>43.103002</td>\n",
       "    </tr>\n",
       "    <tr>\n",
       "      <th>5439</th>\n",
       "      <td>32200</td>\n",
       "      <td>1</td>\n",
       "      <td>0</td>\n",
       "      <td>0</td>\n",
       "      <td>0</td>\n",
       "      <td>0</td>\n",
       "      <td>1</td>\n",
       "      <td>0</td>\n",
       "      <td>0</td>\n",
       "      <td>0</td>\n",
       "      <td>...</td>\n",
       "      <td>0</td>\n",
       "      <td>0.0</td>\n",
       "      <td>0</td>\n",
       "      <td>116.729746</td>\n",
       "      <td>0</td>\n",
       "      <td>1.0</td>\n",
       "      <td>0</td>\n",
       "      <td>5.0</td>\n",
       "      <td>0</td>\n",
       "      <td>37.999082</td>\n",
       "    </tr>\n",
       "    <tr>\n",
       "      <th>997</th>\n",
       "      <td>9400</td>\n",
       "      <td>0</td>\n",
       "      <td>1</td>\n",
       "      <td>0</td>\n",
       "      <td>0</td>\n",
       "      <td>0</td>\n",
       "      <td>1</td>\n",
       "      <td>0</td>\n",
       "      <td>0</td>\n",
       "      <td>0</td>\n",
       "      <td>...</td>\n",
       "      <td>0</td>\n",
       "      <td>0.0</td>\n",
       "      <td>0</td>\n",
       "      <td>350.639006</td>\n",
       "      <td>0</td>\n",
       "      <td>0.0</td>\n",
       "      <td>0</td>\n",
       "      <td>46.0</td>\n",
       "      <td>0</td>\n",
       "      <td>30.061371</td>\n",
       "    </tr>\n",
       "    <tr>\n",
       "      <th>5908</th>\n",
       "      <td>65100</td>\n",
       "      <td>0</td>\n",
       "      <td>1</td>\n",
       "      <td>0</td>\n",
       "      <td>0</td>\n",
       "      <td>1</td>\n",
       "      <td>0</td>\n",
       "      <td>0</td>\n",
       "      <td>0</td>\n",
       "      <td>0</td>\n",
       "      <td>...</td>\n",
       "      <td>0</td>\n",
       "      <td>1.0</td>\n",
       "      <td>0</td>\n",
       "      <td>116.906104</td>\n",
       "      <td>0</td>\n",
       "      <td>0.0</td>\n",
       "      <td>0</td>\n",
       "      <td>11.0</td>\n",
       "      <td>0</td>\n",
       "      <td>43.368718</td>\n",
       "    </tr>\n",
       "  </tbody>\n",
       "</table>\n",
       "<p>5 rows × 28 columns</p>\n",
       "</div>"
      ],
      "text/plain": [
       "       LOAN  REASON_DEBTCON  REASON_HOMEIMP  REASON_MISSING  JOB_Mgr  \\\n",
       "4146  21600               1               0               0        0   \n",
       "4103  21400               0               1               0        1   \n",
       "5439  32200               1               0               0        0   \n",
       "997    9400               0               1               0        0   \n",
       "5908  65100               0               1               0        0   \n",
       "\n",
       "      JOB_Office  JOB_Other  JOB_ProfExe  JOB_Sales  JOB_Self  ...  M_DELINQ  \\\n",
       "4146           0          0            0          0         1  ...         0   \n",
       "4103           0          0            0          0         0  ...         0   \n",
       "5439           0          1            0          0         0  ...         0   \n",
       "997            0          1            0          0         0  ...         0   \n",
       "5908           1          0            0          0         0  ...         0   \n",
       "\n",
       "      IMP_DELINQ  M_CLAGE   IMP_CLAGE  M_NINQ  IMP_NINQ  M_CLNO  IMP_CLNO  \\\n",
       "4146         4.0        0  165.600830       0       0.0       0      43.0   \n",
       "4103         0.0        0  314.984287       0       0.0       0      17.0   \n",
       "5439         0.0        0  116.729746       0       1.0       0       5.0   \n",
       "997          0.0        0  350.639006       0       0.0       0      46.0   \n",
       "5908         1.0        0  116.906104       0       0.0       0      11.0   \n",
       "\n",
       "      M_DEBTINC  IMP_DEBTINC  \n",
       "4146          0    38.014917  \n",
       "4103          0    43.103002  \n",
       "5439          0    37.999082  \n",
       "997           0    30.061371  \n",
       "5908          0    43.368718  \n",
       "\n",
       "[5 rows x 28 columns]"
      ]
     },
     "execution_count": 220,
     "metadata": {},
     "output_type": "execute_result"
    }
   ],
   "source": [
    "X_test.head()"
   ]
  },
  {
   "attachments": {},
   "cell_type": "markdown",
   "id": "1e0e11f2",
   "metadata": {},
   "source": [
    "### Decision Trees to predict the probability of default"
   ]
  },
  {
   "cell_type": "code",
   "execution_count": 222,
   "id": "9813fbb0",
   "metadata": {},
   "outputs": [
    {
     "name": "stdout",
     "output_type": "stream",
     "text": [
      "\n",
      "=============\n",
      "\n",
      "DECISION TREE\n",
      "\n",
      "Probability of default\n",
      "Accuracy Train: 0.8974412751677853\n",
      "Accuracy Test: 0.8875838926174496\n",
      "\n",
      "\n"
     ]
    }
   ],
   "source": [
    "def getTreeVars( TREE, varNames ) :    \n",
    "    tree_ = TREE.tree_    \n",
    "    varName = [ varNames[i] if i != _tree.TREE_UNDEFINED else \"undefined!\" for i in tree_.feature ]    \n",
    "    nameSet = set()    \n",
    "    for i in tree_.feature :        \n",
    "        if i != _tree.TREE_UNDEFINED : nameSet.add( i )    \n",
    "    nameList = list( nameSet )    \n",
    "    parameter_list = list()    \n",
    "    for i in nameList :        \n",
    "        parameter_list.append( varNames[i] )    \n",
    "    return parameter_list\n",
    "\n",
    "fm01_Tree = tree.DecisionTreeClassifier( max_depth=5 )\n",
    "fm01_Tree = fm01_Tree.fit( X_train, Y_train[ \"TARGET_BAD_FLAG\" ] )\n",
    "\n",
    "Y_Pred_train = fm01_Tree.predict(X_train)\n",
    "Y_Pred_test = fm01_Tree.predict(X_test)\n",
    "\n",
    "print(\"\\n=============\\n\")\n",
    "print(\"DECISION TREE\\n\")\n",
    "print(\"Probability of default\")\n",
    "print(\"Accuracy Train:\",metrics.accuracy_score(Y_train[\"TARGET_BAD_FLAG\"], Y_Pred_train))\n",
    "print(\"Accuracy Test:\",metrics.accuracy_score(Y_test[\"TARGET_BAD_FLAG\"], Y_Pred_test))\n",
    "print(\"\\n\")"
   ]
  },
  {
   "cell_type": "code",
   "execution_count": 223,
   "id": "09592e4a",
   "metadata": {},
   "outputs": [],
   "source": [
    "probs = fm01_Tree.predict_proba(X_train)\n",
    "p1 = probs[:,1]\n",
    "fpr_train, tpr_train, threshold = metrics.roc_curve( Y_train[\"TARGET_BAD_FLAG\"], p1)\n",
    "roc_auc_train = metrics.auc(fpr_train, tpr_train)\n",
    "probs = fm01_Tree.predict_proba(X_test)\n",
    "p1 = probs[:,1]\n",
    "fpr_test, tpr_test, threshold = metrics.roc_curve( Y_test[\"TARGET_BAD_FLAG\"], p1)\n",
    "roc_auc_test = metrics.auc(fpr_test, tpr_test)\n",
    "\n",
    "fpr_tree = fpr_test\n",
    "tpr_tree = tpr_test\n",
    "auc_tree = roc_auc_test"
   ]
  },
  {
   "cell_type": "code",
   "execution_count": 224,
   "id": "bc50f6fd",
   "metadata": {},
   "outputs": [
    {
     "data": {
      "text/plain": [
       "array([[1.        , 0.        ],\n",
       "       [0.94713034, 0.05286966],\n",
       "       [0.94713034, 0.05286966],\n",
       "       [0.94713034, 0.05286966],\n",
       "       [0.94713034, 0.05286966]])"
      ]
     },
     "execution_count": 224,
     "metadata": {},
     "output_type": "execute_result"
    }
   ],
   "source": [
    "probs[0:5]"
   ]
  },
  {
   "cell_type": "code",
   "execution_count": 225,
   "id": "9709b743",
   "metadata": {},
   "outputs": [
    {
     "data": {
      "text/plain": [
       "array([0.        , 0.05286966, 0.05286966, 0.05286966, 0.05286966])"
      ]
     },
     "execution_count": 225,
     "metadata": {},
     "output_type": "execute_result"
    }
   ],
   "source": [
    "p1[0:5]"
   ]
  },
  {
   "cell_type": "code",
   "execution_count": 226,
   "id": "a298d39f",
   "metadata": {},
   "outputs": [
    {
     "data": {
      "image/png": "[encoded data removed]",
      "text/plain": [
       "<Figure size 432x288 with 1 Axes>"
      ]
     },
     "metadata": {},
     "output_type": "display_data"
    }
   ],
   "source": [
    "plt.title('TREE ROC CURVE')\n",
    "plt.plot(fpr_train, tpr_train, 'b', label = 'AUC TRAIN = %0.2f' % roc_auc_train)\n",
    "plt.plot(fpr_test, tpr_test, 'b', label = 'AUC TEST = %0.2f' % roc_auc_test, color=\"red\")\n",
    "plt.legend(loc = 'lower right')\n",
    "plt.plot([0, 1], [0, 1],'r--')\n",
    "plt.xlim([0, 1])\n",
    "plt.ylim([0, 1])\n",
    "plt.ylabel('True Positive Rate')\n",
    "plt.xlabel('False Positive Rate')\n",
    "plt.show()"
   ]
  },
  {
   "cell_type": "code",
   "execution_count": 227,
   "id": "ada35ef7",
   "metadata": {},
   "outputs": [],
   "source": [
    "feature_cols = list( X.columns.values )\n",
    "tree.export_graphviz(fm01_Tree,out_file='tree_f.txt',filled=True, rounded=True, feature_names = feature_cols, impurity=False, class_names=[\"Good\",\"Bad\"]  )\n",
    "vars_tree_flag = getTreeVars( fm01_Tree, feature_cols ) "
   ]
  },
  {
   "cell_type": "code",
   "execution_count": 228,
   "id": "dfe68272",
   "metadata": {},
   "outputs": [
    {
     "name": "stdout",
     "output_type": "stream",
     "text": [
      "LOAN\n",
      "JOB_Office\n",
      "JOB_Sales\n",
      "IMP_MORTDUE\n",
      "M_VALUE\n",
      "IMP_VALUE\n",
      "M_YOJ\n",
      "IMP_YOJ\n",
      "M_DEROG\n",
      "IMP_DEROG\n",
      "IMP_DELINQ\n",
      "IMP_CLAGE\n",
      "M_DEBTINC\n",
      "IMP_DEBTINC\n"
     ]
    }
   ],
   "source": [
    "for i in vars_tree_flag:\n",
    "    print(i)"
   ]
  },
  {
   "attachments": {},
   "cell_type": "markdown",
   "id": "161c8bbf",
   "metadata": {},
   "source": [
    "### Decision Trees to predict the loss amount assuming that the loan defaults"
   ]
  },
  {
   "cell_type": "code",
   "execution_count": 232,
   "id": "e5cf9614",
   "metadata": {},
   "outputs": [
    {
     "name": "stdout",
     "output_type": "stream",
     "text": [
      "MEAN Train 12163.315621679065\n",
      "MEAN Test 11946.959677419354\n",
      " ----- \n",
      "\n",
      "\n",
      "TREE RMSE Train: 3216.216446881694\n",
      "TREE RMSE Test: 3942.9974837311943\n",
      "\n",
      "\n",
      "LOAN\n",
      "IMP_MORTDUE\n",
      "IMP_CLNO\n",
      "M_DEBTINC\n",
      "IMP_DEBTINC\n"
     ]
    }
   ],
   "source": [
    "amt_m01_Tree = tree.DecisionTreeRegressor( max_depth= 4 )\n",
    "amt_m01_Tree = amt_m01_Tree.fit( W_train, Z_train[\"TARGET_LOSS_AMT\"] )\n",
    "Z_Pred_train = amt_m01_Tree.predict(W_train)\n",
    "Z_Pred_test = amt_m01_Tree.predict(W_test)\n",
    "\n",
    "print( \"MEAN Train\", Z_train[\"TARGET_LOSS_AMT\"].mean() )\n",
    "print( \"MEAN Test\", Z_test[\"TARGET_LOSS_AMT\"].mean() )\n",
    "print( \" ----- \\n\\n\" )\n",
    "\n",
    "RMSE_TRAIN = math.sqrt( metrics.mean_squared_error(Z_train[\"TARGET_LOSS_AMT\"], Z_Pred_train))\n",
    "RMSE_TEST = math.sqrt( metrics.mean_squared_error(Z_test[\"TARGET_LOSS_AMT\"], Z_Pred_test))\n",
    "print(\"TREE RMSE Train:\", RMSE_TRAIN )\n",
    "print(\"TREE RMSE Test:\", RMSE_TEST )\n",
    "\n",
    "RMSE_TREE = RMSE_TEST\n",
    "feature_cols = list( X.columns.values )\n",
    "vars_tree_amt = getTreeVars( amt_m01_Tree, feature_cols ) \n",
    "tree.export_graphviz(amt_m01_Tree,out_file='tree_a.txt',filled=True, rounded=True, feature_names = feature_cols, impurity=False, precision=0  )\n",
    "print(\"\\n\")\n",
    "\n",
    "for i in vars_tree_amt :    \n",
    "    print(i)\n",
    "    \n",
    "##print( \"FLAG=\",vars_tree_flag )\n",
    "##print(\" ==== \\n\\n\")"
   ]
  },
  {
   "attachments": {},
   "cell_type": "markdown",
   "id": "42a999b6",
   "metadata": {},
   "source": [
    "### Random Forests to predict the probability of default"
   ]
  },
  {
   "cell_type": "code",
   "execution_count": 233,
   "id": "e17ff37c",
   "metadata": {},
   "outputs": [],
   "source": [
    "def getEnsembleTreeVars( ENSTREE, varNames ) :    \n",
    "    importance = ENSTREE.feature_importances_    \n",
    "    index = np.argsort(importance)    \n",
    "    theList = []    \n",
    "    for i in index :        \n",
    "        imp_val = importance[i]        \n",
    "        if imp_val > np.average( ENSTREE.feature_importances_ ) :            \n",
    "            v = int( imp_val / np.max( ENSTREE.feature_importances_ ) * 100 )            \n",
    "            theList.append( ( varNames[i], v ) )    \n",
    "    theList = sorted(theList,key=itemgetter(1),reverse=True)    \n",
    "    return theList"
   ]
  },
  {
   "cell_type": "code",
   "execution_count": 234,
   "id": "a73f1292",
   "metadata": {},
   "outputs": [],
   "source": [
    "fm01_RF = RandomForestClassifier( n_estimators = 25, random_state=1 )\n",
    "fm01_RF = fm01_RF.fit( X_train, Y_train[ \"TARGET_BAD_FLAG\" ] )\n",
    "\n",
    "Y_Pred_train = fm01_RF.predict(X_train)\n",
    "Y_Pred_test = fm01_RF.predict(X_test)"
   ]
  },
  {
   "cell_type": "code",
   "execution_count": 235,
   "id": "1057852a",
   "metadata": {},
   "outputs": [
    {
     "name": "stdout",
     "output_type": "stream",
     "text": [
      "\n",
      "=============\n",
      "\n",
      "RANDOM FOREST\n",
      "\n",
      "Probability of Bad Loan Flag\n",
      "Accuracy Train: 0.9993708053691275\n",
      "Accuracy Test: 0.9119127516778524\n",
      "\n",
      "\n"
     ]
    }
   ],
   "source": [
    "print(\"\\n=============\\n\")\n",
    "print(\"RANDOM FOREST\\n\")\n",
    "print(\"Probability of Bad Loan Flag\")\n",
    "print(\"Accuracy Train:\",metrics.accuracy_score(Y_train[\"TARGET_BAD_FLAG\"], Y_Pred_train))\n",
    "print(\"Accuracy Test:\",metrics.accuracy_score(Y_test[\"TARGET_BAD_FLAG\"], Y_Pred_test))\n",
    "print(\"\\n\")"
   ]
  },
  {
   "cell_type": "code",
   "execution_count": 236,
   "id": "821f34e8",
   "metadata": {},
   "outputs": [],
   "source": [
    "probs = fm01_RF.predict_proba(X_train)\n",
    "p1 = probs[:,1]\n",
    "fpr_train, tpr_train, threshold = metrics.roc_curve( Y_train[\"TARGET_BAD_FLAG\"], p1)\n",
    "roc_auc_train = metrics.auc(fpr_train, tpr_train)\n",
    "\n",
    "probs = fm01_RF.predict_proba(X_test)\n",
    "p1 = probs[:,1]\n",
    "fpr_test, tpr_test, threshold = metrics.roc_curve( Y_test[\"TARGET_BAD_FLAG\"], p1)\n",
    "roc_auc_test = metrics.auc(fpr_test, tpr_test)\n",
    "fpr_RF = fpr_test\n",
    "tpr_RF = tpr_test\n",
    "auc_RF = roc_auc_test\n",
    "feature_cols = list( X.columns.values )\n",
    "vars_RF_flag = getEnsembleTreeVars( fm01_RF, feature_cols )"
   ]
  },
  {
   "cell_type": "code",
   "execution_count": 237,
   "id": "c7b510d9",
   "metadata": {
    "scrolled": false
   },
   "outputs": [
    {
     "name": "stdout",
     "output_type": "stream",
     "text": [
      "('M_DEBTINC', 100)\n",
      "('IMP_DEBTINC', 73)\n",
      "('IMP_CLAGE', 45)\n",
      "('IMP_DELINQ', 41)\n",
      "('LOAN', 40)\n",
      "('IMP_VALUE', 38)\n",
      "('IMP_CLNO', 37)\n",
      "('IMP_MORTDUE', 36)\n",
      "('IMP_YOJ', 28)\n",
      "('IMP_DEROG', 24)\n",
      "('IMP_NINQ', 21)\n"
     ]
    },
    {
     "data": {
      "image/png": "[encoded data removed]",
      "text/plain": [
       "<Figure size 432x288 with 1 Axes>"
      ]
     },
     "metadata": {},
     "output_type": "display_data"
    }
   ],
   "source": [
    "for i in vars_RF_flag :\n",
    "    print( i )\n",
    "    \n",
    "plt.title('RF ROC CURVE')\n",
    "plt.plot(fpr_train, tpr_train, 'b', label = 'AUC TRAIN = %0.2f' % roc_auc_train)\n",
    "plt.plot(fpr_test, tpr_test, 'b', label = 'AUC TEST = %0.2f' % roc_auc_test, color=\"red\")\n",
    "plt.legend(loc = 'lower right')\n",
    "plt.plot([0, 1], [0, 1],'r--')\n",
    "plt.xlim([0, 1])\n",
    "plt.ylim([0, 1])\n",
    "plt.ylabel('True Positive Rate')\n",
    "plt.xlabel('False Positive Rate')\n",
    "plt.show()"
   ]
  },
  {
   "cell_type": "markdown",
   "id": "313cee09",
   "metadata": {},
   "source": [
    "### Random Forest to predict the loss amount assuming that the loan defaults"
   ]
  },
  {
   "cell_type": "code",
   "execution_count": 238,
   "id": "b1290b04",
   "metadata": {},
   "outputs": [
    {
     "name": "stdout",
     "output_type": "stream",
     "text": [
      "MEAN Train 12163.315621679065\n",
      "MEAN Test 11946.959677419354\n",
      " ----- \n",
      "\n",
      "\n",
      "RF RMSE Train: 823.4883298593605\n",
      "RF RMSE Test: 2178.544160557225\n",
      "('LOAN', 100)\n",
      "('IMP_CLNO', 13)\n",
      "('IMP_DEBTINC', 10)\n"
     ]
    }
   ],
   "source": [
    "amt_m01_RF = RandomForestRegressor(n_estimators = 100, random_state=1)\n",
    "amt_m01_RF = amt_m01_RF.fit( W_train, Z_train[\"TARGET_LOSS_AMT\"] )\n",
    "Z_Pred_train = amt_m01_RF.predict(W_train)\n",
    "Z_Pred_test = amt_m01_RF.predict(W_test)\n",
    "\n",
    "print( \"MEAN Train\", Z_train[\"TARGET_LOSS_AMT\"].mean() )\n",
    "print( \"MEAN Test\", Z_test[\"TARGET_LOSS_AMT\"].mean() )\n",
    "print( \" ----- \\n\\n\" )\n",
    "\n",
    "RMSE_TRAIN = math.sqrt( metrics.mean_squared_error(Z_train[\"TARGET_LOSS_AMT\"], Z_Pred_train))\n",
    "RMSE_TEST = math.sqrt( metrics.mean_squared_error(Z_test[\"TARGET_LOSS_AMT\"], Z_Pred_test))\n",
    "print(\"RF RMSE Train:\", RMSE_TRAIN )\n",
    "print(\"RF RMSE Test:\", RMSE_TEST )\n",
    "\n",
    "RMSE_RF = RMSE_TEST\n",
    "feature_cols = list( X.columns.values )\n",
    "vars_RF_amt = getEnsembleTreeVars( amt_m01_RF, feature_cols )\n",
    "\n",
    "for i in vars_RF_amt :\n",
    "    print( i )"
   ]
  },
  {
   "attachments": {},
   "cell_type": "markdown",
   "id": "c1ee7833",
   "metadata": {},
   "source": [
    "### Gradient Boosting model to predict the probability of default"
   ]
  },
  {
   "cell_type": "code",
   "execution_count": 188,
   "id": "558ee0e1",
   "metadata": {},
   "outputs": [
    {
     "name": "stdout",
     "output_type": "stream",
     "text": [
      "\n",
      "=============\n",
      "\n",
      "GRADIENT BOOSTING\n",
      "\n",
      "Probability of bad loan\n",
      "Accuracy Train: 0.9230285234899329\n",
      "Accuracy Test: 0.9010067114093959\n",
      "\n",
      "\n"
     ]
    }
   ],
   "source": [
    "fm01_GB = GradientBoostingClassifier( random_state=1 )\n",
    "fm01_GB = fm01_GB.fit( X_train, Y_train[\"TARGET_BAD_FLAG\"] )\n",
    "Y_Pred_train = fm01_GB.predict(X_train)\n",
    "Y_Pred_test = fm01_GB.predict(X_test)\n",
    "print(\"\\n=============\\n\")\n",
    "print(\"GRADIENT BOOSTING\\n\")\n",
    "print(\"Probability of bad loan\")\n",
    "\n",
    "print(\"Accuracy Train:\",metrics.accuracy_score(Y_train[\"TARGET_BAD_FLAG\"], Y_Pred_train))\n",
    "print(\"Accuracy Test:\",metrics.accuracy_score(Y_test[\"TARGET_BAD_FLAG\"], Y_Pred_test))\n",
    "print(\"\\n\")"
   ]
  },
  {
   "cell_type": "code",
   "execution_count": 189,
   "id": "556a4e09",
   "metadata": {},
   "outputs": [],
   "source": [
    "probs = fm01_GB.predict_proba(X_train)\n",
    "p1 = probs[:,1]\n",
    "fpr_train, tpr_train, threshold = metrics.roc_curve( Y_train[\"TARGET_BAD_FLAG\"], p1)\n",
    "roc_auc_train = metrics.auc(fpr_train, tpr_train)\n",
    "probs = fm01_GB.predict_proba(X_test)\n",
    "p1 = probs[:,1]\n",
    "fpr_test, tpr_test, threshold = metrics.roc_curve( Y_test[\"TARGET_BAD_FLAG\"], p1)\n",
    "\n",
    "roc_auc_test = metrics.auc(fpr_test, tpr_test)\n",
    "fpr_GB = fpr_test\n",
    "tpr_GB = tpr_test\n",
    "auc_GB = roc_auc_test\n",
    "feature_cols = list( X.columns.values )\n",
    "vars_GB_flag = getEnsembleTreeVars( fm01_GB, feature_cols )"
   ]
  },
  {
   "cell_type": "code",
   "execution_count": 190,
   "id": "ebe321d3",
   "metadata": {},
   "outputs": [
    {
     "name": "stdout",
     "output_type": "stream",
     "text": [
      "('M_DEBTINC', 100)\n",
      "('IMP_DEBTINC', 29)\n",
      "('IMP_DELINQ', 19)\n",
      "('IMP_CLAGE', 14)\n",
      "('IMP_DEROG', 7)\n"
     ]
    },
    {
     "data": {
      "image/png": "[encoded data removed]",
      "text/plain": [
       "<Figure size 432x288 with 1 Axes>"
      ]
     },
     "metadata": {},
     "output_type": "display_data"
    }
   ],
   "source": [
    "for i in vars_GB_flag :\n",
    "    print(i)\n",
    "\n",
    "plt.title('GB ROC CURVE')\n",
    "plt.plot(fpr_train, tpr_train, 'b', label = 'AUC TRAIN = %0.2f' % roc_auc_train)\n",
    "plt.plot(fpr_test, tpr_test, 'b', label = 'AUC TEST = %0.2f' % roc_auc_test, color=\"red\")\n",
    "plt.legend(loc = 'lower right')\n",
    "plt.plot([0, 1], [0, 1],'r--')\n",
    "plt.xlim([0, 1])\n",
    "plt.ylim([0, 1])\n",
    "plt.ylabel('True Positive Rate')\n",
    "plt.xlabel('False Positive Rate')\n",
    "plt.show()"
   ]
  },
  {
   "cell_type": "markdown",
   "id": "dfc268ec",
   "metadata": {},
   "source": [
    "### Gradient Boosting to predict the loss amount assuming that the loan defaults"
   ]
  },
  {
   "cell_type": "code",
   "execution_count": 241,
   "id": "4380a1f5",
   "metadata": {},
   "outputs": [
    {
     "name": "stdout",
     "output_type": "stream",
     "text": [
      "MEAN Train 12163.315621679065\n",
      "MEAN Test 11946.959677419354\n",
      " ----- \n",
      "\n",
      "\n",
      "GB RMSE Train: 1046.8184939110056\n",
      "GB RMSE Test: 1833.6964090936965\n",
      "('LOAN', 100)\n",
      "('IMP_CLNO', 16)\n",
      "('IMP_DEBTINC', 8)\n",
      "('M_DEBTINC', 7)\n"
     ]
    }
   ],
   "source": [
    "amt_m01_GB = GradientBoostingRegressor(random_state=1)\n",
    "amt_m01_GB = amt_m01_GB.fit( W_train, Z_train[\"TARGET_LOSS_AMT\"] )\n",
    "Z_Pred_train = amt_m01_GB.predict(W_train)\n",
    "Z_Pred_test = amt_m01_GB.predict(W_test)\n",
    "\n",
    "print( \"MEAN Train\", Z_train[\"TARGET_LOSS_AMT\"].mean() )\n",
    "print( \"MEAN Test\", Z_test[\"TARGET_LOSS_AMT\"].mean() )\n",
    "print( \" ----- \\n\\n\" )\n",
    "\n",
    "RMSE_TRAIN = math.sqrt( metrics.mean_squared_error(Z_train[\"TARGET_LOSS_AMT\"], Z_Pred_train))\n",
    "RMSE_TEST = math.sqrt( metrics.mean_squared_error(Z_test[\"TARGET_LOSS_AMT\"], Z_Pred_test))\n",
    "print(\"GB RMSE Train:\", RMSE_TRAIN )\n",
    "print(\"GB RMSE Test:\", RMSE_TEST )\n",
    "RMSE_GB = RMSE_TEST\n",
    "\n",
    "feature_cols = list( X.columns.values )\n",
    "vars_GB_amt = getEnsembleTreeVars( amt_m01_GB, feature_cols )\n",
    "\n",
    "for i in vars_GB_amt :\n",
    "    print( i )"
   ]
  },
  {
   "cell_type": "markdown",
   "id": "b9861103",
   "metadata": {},
   "source": [
    "### Model Comparison"
   ]
  },
  {
   "cell_type": "code",
   "execution_count": 192,
   "id": "3887fa7d",
   "metadata": {},
   "outputs": [
    {
     "data": {
      "image/png": "[encoded data removed]",
      "text/plain": [
       "<Figure size 432x288 with 1 Axes>"
      ]
     },
     "metadata": {},
     "output_type": "display_data"
    },
    {
     "name": "stdout",
     "output_type": "stream",
     "text": [
      "Root Mean Square Average For Loss Amount\n",
      "TREE 5732.6842719501765\n",
      "RF 3203.798055210686\n",
      "GB 2641.9375614891906\n"
     ]
    }
   ],
   "source": [
    "plt.title('MODELS ROC CURVE')\n",
    "plt.plot(fpr_tree, tpr_tree, 'b', label = 'AUC TREE = %0.2f' % auc_tree, color=\"red\")\n",
    "plt.plot(fpr_RF, tpr_RF, 'b', label = 'AUC RF = %0.2f' % auc_RF, color=\"green\")\n",
    "plt.plot(fpr_GB, tpr_GB, 'b', label = 'AUC GB = %0.2f' % auc_GB, color=\"blue\")\n",
    "plt.legend(loc = 'lower right')\n",
    "plt.plot([0, 1], [0, 1],'r--')\n",
    "plt.xlim([0, 1])\n",
    "plt.ylim([0, 1])\n",
    "plt.ylabel('True Positive Rate')\n",
    "plt.xlabel('False Positive Rate')\n",
    "plt.show()\n",
    "print(\"Root Mean Square Average For Loss Amount\")\n",
    "print(\"TREE\", RMSE_TREE)\n",
    "print(\"RF\", RMSE_RF)\n",
    "print(\"GB\", RMSE_GB)"
   ]
  },
  {
   "cell_type": "code",
   "execution_count": null,
   "id": "91754fd8",
   "metadata": {},
   "outputs": [],
   "source": []
  }
 ],
 "metadata": {
  "kernelspec": {
   "display_name": "Python 3",
   "language": "python",
   "name": "python3"
  },
  "language_info": {
   "codemirror_mode": {
    "name": "ipython",
    "version": 3
   },
   "file_extension": ".py",
   "mimetype": "text/x-python",
   "name": "python",
   "nbconvert_exporter": "python",
   "pygments_lexer": "ipython3",
   "version": "3.8.10"
  }
 },
 "nbformat": 4,
 "nbformat_minor": 5
}
