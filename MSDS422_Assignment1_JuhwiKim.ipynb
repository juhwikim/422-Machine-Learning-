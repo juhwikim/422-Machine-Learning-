{
 "cells": [
  {
   "cell_type": "code",
   "execution_count": 1,
   "id": "b9c8f3ce",
   "metadata": {},
   "outputs": [],
   "source": [
    "import pandas as pd\n",
    "import numpy as np\n",
    "import matplotlib.pyplot as plt\n",
    "import seaborn as sns\n",
    "sns.set()"
   ]
  },
  {
   "cell_type": "code",
   "execution_count": 2,
   "id": "55101fdf",
   "metadata": {},
   "outputs": [],
   "source": [
    "file_loc = ('/Users/juhwikim/Desktop/MSDS/422 Machine Learning/HMEQ_Loss.csv')\n",
    "\n",
    "df = pd.read_csv(file_loc)"
   ]
  },
  {
   "cell_type": "markdown",
   "id": "8aa881d7",
   "metadata": {},
   "source": [
    "## Dataframe Overview"
   ]
  },
  {
   "cell_type": "code",
   "execution_count": 3,
   "id": "2076a178",
   "metadata": {},
   "outputs": [
    {
     "data": {
      "text/plain": [
       "(5960, 14)"
      ]
     },
     "execution_count": 3,
     "metadata": {},
     "output_type": "execute_result"
    }
   ],
   "source": [
    "df.shape"
   ]
  },
  {
   "cell_type": "code",
   "execution_count": 4,
   "id": "d3433694",
   "metadata": {},
   "outputs": [
    {
     "name": "stdout",
     "output_type": "stream",
     "text": [
      "<class 'pandas.core.frame.DataFrame'>\n",
      "RangeIndex: 5960 entries, 0 to 5959\n",
      "Data columns (total 14 columns):\n",
      " #   Column           Non-Null Count  Dtype  \n",
      "---  ------           --------------  -----  \n",
      " 0   TARGET_BAD_FLAG  5960 non-null   int64  \n",
      " 1   TARGET_LOSS_AMT  1189 non-null   float64\n",
      " 2   LOAN             5960 non-null   int64  \n",
      " 3   MORTDUE          5442 non-null   float64\n",
      " 4   VALUE            5848 non-null   float64\n",
      " 5   REASON           5708 non-null   object \n",
      " 6   JOB              5681 non-null   object \n",
      " 7   YOJ              5445 non-null   float64\n",
      " 8   DEROG            5252 non-null   float64\n",
      " 9   DELINQ           5380 non-null   float64\n",
      " 10  CLAGE            5652 non-null   float64\n",
      " 11  NINQ             5450 non-null   float64\n",
      " 12  CLNO             5738 non-null   float64\n",
      " 13  DEBTINC          4693 non-null   float64\n",
      "dtypes: float64(10), int64(2), object(2)\n",
      "memory usage: 652.0+ KB\n"
     ]
    }
   ],
   "source": [
    "df.info()"
   ]
  },
  {
   "cell_type": "code",
   "execution_count": 5,
   "id": "5efc1273",
   "metadata": {},
   "outputs": [
    {
     "data": {
      "text/html": [
       "<div>\n",
       "<style scoped>\n",
       "    .dataframe tbody tr th:only-of-type {\n",
       "        vertical-align: middle;\n",
       "    }\n",
       "\n",
       "    .dataframe tbody tr th {\n",
       "        vertical-align: top;\n",
       "    }\n",
       "\n",
       "    .dataframe thead th {\n",
       "        text-align: right;\n",
       "    }\n",
       "</style>\n",
       "<table border=\"1\" class=\"dataframe\">\n",
       "  <thead>\n",
       "    <tr style=\"text-align: right;\">\n",
       "      <th></th>\n",
       "      <th>TARGET_BAD_FLAG</th>\n",
       "      <th>TARGET_LOSS_AMT</th>\n",
       "      <th>LOAN</th>\n",
       "      <th>MORTDUE</th>\n",
       "      <th>VALUE</th>\n",
       "      <th>REASON</th>\n",
       "      <th>JOB</th>\n",
       "      <th>YOJ</th>\n",
       "      <th>DEROG</th>\n",
       "      <th>DELINQ</th>\n",
       "      <th>CLAGE</th>\n",
       "      <th>NINQ</th>\n",
       "      <th>CLNO</th>\n",
       "      <th>DEBTINC</th>\n",
       "    </tr>\n",
       "  </thead>\n",
       "  <tbody>\n",
       "    <tr>\n",
       "      <th>0</th>\n",
       "      <td>1</td>\n",
       "      <td>641.0</td>\n",
       "      <td>1100</td>\n",
       "      <td>25860.0</td>\n",
       "      <td>39025.0</td>\n",
       "      <td>HomeImp</td>\n",
       "      <td>Other</td>\n",
       "      <td>10.5</td>\n",
       "      <td>0.0</td>\n",
       "      <td>0.0</td>\n",
       "      <td>94.366667</td>\n",
       "      <td>1.0</td>\n",
       "      <td>9.0</td>\n",
       "      <td>NaN</td>\n",
       "    </tr>\n",
       "    <tr>\n",
       "      <th>1</th>\n",
       "      <td>1</td>\n",
       "      <td>1109.0</td>\n",
       "      <td>1300</td>\n",
       "      <td>70053.0</td>\n",
       "      <td>68400.0</td>\n",
       "      <td>HomeImp</td>\n",
       "      <td>Other</td>\n",
       "      <td>7.0</td>\n",
       "      <td>0.0</td>\n",
       "      <td>2.0</td>\n",
       "      <td>121.833333</td>\n",
       "      <td>0.0</td>\n",
       "      <td>14.0</td>\n",
       "      <td>NaN</td>\n",
       "    </tr>\n",
       "    <tr>\n",
       "      <th>2</th>\n",
       "      <td>1</td>\n",
       "      <td>767.0</td>\n",
       "      <td>1500</td>\n",
       "      <td>13500.0</td>\n",
       "      <td>16700.0</td>\n",
       "      <td>HomeImp</td>\n",
       "      <td>Other</td>\n",
       "      <td>4.0</td>\n",
       "      <td>0.0</td>\n",
       "      <td>0.0</td>\n",
       "      <td>149.466667</td>\n",
       "      <td>1.0</td>\n",
       "      <td>10.0</td>\n",
       "      <td>NaN</td>\n",
       "    </tr>\n",
       "    <tr>\n",
       "      <th>3</th>\n",
       "      <td>1</td>\n",
       "      <td>1425.0</td>\n",
       "      <td>1500</td>\n",
       "      <td>NaN</td>\n",
       "      <td>NaN</td>\n",
       "      <td>NaN</td>\n",
       "      <td>NaN</td>\n",
       "      <td>NaN</td>\n",
       "      <td>NaN</td>\n",
       "      <td>NaN</td>\n",
       "      <td>NaN</td>\n",
       "      <td>NaN</td>\n",
       "      <td>NaN</td>\n",
       "      <td>NaN</td>\n",
       "    </tr>\n",
       "    <tr>\n",
       "      <th>4</th>\n",
       "      <td>0</td>\n",
       "      <td>NaN</td>\n",
       "      <td>1700</td>\n",
       "      <td>97800.0</td>\n",
       "      <td>112000.0</td>\n",
       "      <td>HomeImp</td>\n",
       "      <td>Office</td>\n",
       "      <td>3.0</td>\n",
       "      <td>0.0</td>\n",
       "      <td>0.0</td>\n",
       "      <td>93.333333</td>\n",
       "      <td>0.0</td>\n",
       "      <td>14.0</td>\n",
       "      <td>NaN</td>\n",
       "    </tr>\n",
       "  </tbody>\n",
       "</table>\n",
       "</div>"
      ],
      "text/plain": [
       "   TARGET_BAD_FLAG  TARGET_LOSS_AMT  LOAN  MORTDUE     VALUE   REASON     JOB  \\\n",
       "0                1            641.0  1100  25860.0   39025.0  HomeImp   Other   \n",
       "1                1           1109.0  1300  70053.0   68400.0  HomeImp   Other   \n",
       "2                1            767.0  1500  13500.0   16700.0  HomeImp   Other   \n",
       "3                1           1425.0  1500      NaN       NaN      NaN     NaN   \n",
       "4                0              NaN  1700  97800.0  112000.0  HomeImp  Office   \n",
       "\n",
       "    YOJ  DEROG  DELINQ       CLAGE  NINQ  CLNO  DEBTINC  \n",
       "0  10.5    0.0     0.0   94.366667   1.0   9.0      NaN  \n",
       "1   7.0    0.0     2.0  121.833333   0.0  14.0      NaN  \n",
       "2   4.0    0.0     0.0  149.466667   1.0  10.0      NaN  \n",
       "3   NaN    NaN     NaN         NaN   NaN   NaN      NaN  \n",
       "4   3.0    0.0     0.0   93.333333   0.0  14.0      NaN  "
      ]
     },
     "execution_count": 5,
     "metadata": {},
     "output_type": "execute_result"
    }
   ],
   "source": [
    "df.head()"
   ]
  },
  {
   "cell_type": "code",
   "execution_count": 6,
   "id": "cbc1c89e",
   "metadata": {},
   "outputs": [
    {
     "data": {
      "text/html": [
       "<div>\n",
       "<style scoped>\n",
       "    .dataframe tbody tr th:only-of-type {\n",
       "        vertical-align: middle;\n",
       "    }\n",
       "\n",
       "    .dataframe tbody tr th {\n",
       "        vertical-align: top;\n",
       "    }\n",
       "\n",
       "    .dataframe thead th {\n",
       "        text-align: right;\n",
       "    }\n",
       "</style>\n",
       "<table border=\"1\" class=\"dataframe\">\n",
       "  <thead>\n",
       "    <tr style=\"text-align: right;\">\n",
       "      <th></th>\n",
       "      <th>TARGET_BAD_FLAG</th>\n",
       "      <th>TARGET_LOSS_AMT</th>\n",
       "      <th>LOAN</th>\n",
       "      <th>MORTDUE</th>\n",
       "      <th>VALUE</th>\n",
       "      <th>REASON</th>\n",
       "      <th>JOB</th>\n",
       "      <th>YOJ</th>\n",
       "      <th>DEROG</th>\n",
       "      <th>DELINQ</th>\n",
       "      <th>CLAGE</th>\n",
       "      <th>NINQ</th>\n",
       "      <th>CLNO</th>\n",
       "      <th>DEBTINC</th>\n",
       "    </tr>\n",
       "  </thead>\n",
       "  <tbody>\n",
       "    <tr>\n",
       "      <th>5955</th>\n",
       "      <td>0</td>\n",
       "      <td>NaN</td>\n",
       "      <td>88900</td>\n",
       "      <td>57264.0</td>\n",
       "      <td>90185.0</td>\n",
       "      <td>DebtCon</td>\n",
       "      <td>Other</td>\n",
       "      <td>16.0</td>\n",
       "      <td>0.0</td>\n",
       "      <td>0.0</td>\n",
       "      <td>221.808718</td>\n",
       "      <td>0.0</td>\n",
       "      <td>16.0</td>\n",
       "      <td>36.112347</td>\n",
       "    </tr>\n",
       "    <tr>\n",
       "      <th>5956</th>\n",
       "      <td>0</td>\n",
       "      <td>NaN</td>\n",
       "      <td>89000</td>\n",
       "      <td>54576.0</td>\n",
       "      <td>92937.0</td>\n",
       "      <td>DebtCon</td>\n",
       "      <td>Other</td>\n",
       "      <td>16.0</td>\n",
       "      <td>0.0</td>\n",
       "      <td>0.0</td>\n",
       "      <td>208.692070</td>\n",
       "      <td>0.0</td>\n",
       "      <td>15.0</td>\n",
       "      <td>35.859971</td>\n",
       "    </tr>\n",
       "    <tr>\n",
       "      <th>5957</th>\n",
       "      <td>0</td>\n",
       "      <td>NaN</td>\n",
       "      <td>89200</td>\n",
       "      <td>54045.0</td>\n",
       "      <td>92924.0</td>\n",
       "      <td>DebtCon</td>\n",
       "      <td>Other</td>\n",
       "      <td>15.0</td>\n",
       "      <td>0.0</td>\n",
       "      <td>0.0</td>\n",
       "      <td>212.279697</td>\n",
       "      <td>0.0</td>\n",
       "      <td>15.0</td>\n",
       "      <td>35.556590</td>\n",
       "    </tr>\n",
       "    <tr>\n",
       "      <th>5958</th>\n",
       "      <td>0</td>\n",
       "      <td>NaN</td>\n",
       "      <td>89800</td>\n",
       "      <td>50370.0</td>\n",
       "      <td>91861.0</td>\n",
       "      <td>DebtCon</td>\n",
       "      <td>Other</td>\n",
       "      <td>14.0</td>\n",
       "      <td>0.0</td>\n",
       "      <td>0.0</td>\n",
       "      <td>213.892709</td>\n",
       "      <td>0.0</td>\n",
       "      <td>16.0</td>\n",
       "      <td>34.340882</td>\n",
       "    </tr>\n",
       "    <tr>\n",
       "      <th>5959</th>\n",
       "      <td>0</td>\n",
       "      <td>NaN</td>\n",
       "      <td>89900</td>\n",
       "      <td>48811.0</td>\n",
       "      <td>88934.0</td>\n",
       "      <td>DebtCon</td>\n",
       "      <td>Other</td>\n",
       "      <td>15.0</td>\n",
       "      <td>0.0</td>\n",
       "      <td>0.0</td>\n",
       "      <td>219.601002</td>\n",
       "      <td>0.0</td>\n",
       "      <td>16.0</td>\n",
       "      <td>34.571519</td>\n",
       "    </tr>\n",
       "  </tbody>\n",
       "</table>\n",
       "</div>"
      ],
      "text/plain": [
       "      TARGET_BAD_FLAG  TARGET_LOSS_AMT   LOAN  MORTDUE    VALUE   REASON  \\\n",
       "5955                0              NaN  88900  57264.0  90185.0  DebtCon   \n",
       "5956                0              NaN  89000  54576.0  92937.0  DebtCon   \n",
       "5957                0              NaN  89200  54045.0  92924.0  DebtCon   \n",
       "5958                0              NaN  89800  50370.0  91861.0  DebtCon   \n",
       "5959                0              NaN  89900  48811.0  88934.0  DebtCon   \n",
       "\n",
       "        JOB   YOJ  DEROG  DELINQ       CLAGE  NINQ  CLNO    DEBTINC  \n",
       "5955  Other  16.0    0.0     0.0  221.808718   0.0  16.0  36.112347  \n",
       "5956  Other  16.0    0.0     0.0  208.692070   0.0  15.0  35.859971  \n",
       "5957  Other  15.0    0.0     0.0  212.279697   0.0  15.0  35.556590  \n",
       "5958  Other  14.0    0.0     0.0  213.892709   0.0  16.0  34.340882  \n",
       "5959  Other  15.0    0.0     0.0  219.601002   0.0  16.0  34.571519  "
      ]
     },
     "execution_count": 6,
     "metadata": {},
     "output_type": "execute_result"
    }
   ],
   "source": [
    "df.tail()"
   ]
  },
  {
   "cell_type": "code",
   "execution_count": 7,
   "id": "64db4a83",
   "metadata": {},
   "outputs": [
    {
     "data": {
      "text/html": [
       "<div>\n",
       "<style scoped>\n",
       "    .dataframe tbody tr th:only-of-type {\n",
       "        vertical-align: middle;\n",
       "    }\n",
       "\n",
       "    .dataframe tbody tr th {\n",
       "        vertical-align: top;\n",
       "    }\n",
       "\n",
       "    .dataframe thead th {\n",
       "        text-align: right;\n",
       "    }\n",
       "</style>\n",
       "<table border=\"1\" class=\"dataframe\">\n",
       "  <thead>\n",
       "    <tr style=\"text-align: right;\">\n",
       "      <th></th>\n",
       "      <th>TARGET_BAD_FLAG</th>\n",
       "      <th>TARGET_LOSS_AMT</th>\n",
       "      <th>LOAN</th>\n",
       "      <th>MORTDUE</th>\n",
       "      <th>VALUE</th>\n",
       "      <th>YOJ</th>\n",
       "      <th>DEROG</th>\n",
       "      <th>DELINQ</th>\n",
       "      <th>CLAGE</th>\n",
       "      <th>NINQ</th>\n",
       "      <th>CLNO</th>\n",
       "      <th>DEBTINC</th>\n",
       "    </tr>\n",
       "  </thead>\n",
       "  <tbody>\n",
       "    <tr>\n",
       "      <th>count</th>\n",
       "      <td>5960.000000</td>\n",
       "      <td>1189.000000</td>\n",
       "      <td>5960.000000</td>\n",
       "      <td>5442.000000</td>\n",
       "      <td>5848.000000</td>\n",
       "      <td>5445.000000</td>\n",
       "      <td>5252.000000</td>\n",
       "      <td>5380.000000</td>\n",
       "      <td>5652.000000</td>\n",
       "      <td>5450.000000</td>\n",
       "      <td>5738.000000</td>\n",
       "      <td>4693.000000</td>\n",
       "    </tr>\n",
       "    <tr>\n",
       "      <th>mean</th>\n",
       "      <td>0.199497</td>\n",
       "      <td>13414.576955</td>\n",
       "      <td>18607.969799</td>\n",
       "      <td>73760.817200</td>\n",
       "      <td>101776.048741</td>\n",
       "      <td>8.922268</td>\n",
       "      <td>0.254570</td>\n",
       "      <td>0.449442</td>\n",
       "      <td>179.766275</td>\n",
       "      <td>1.186055</td>\n",
       "      <td>21.296096</td>\n",
       "      <td>33.779915</td>\n",
       "    </tr>\n",
       "    <tr>\n",
       "      <th>std</th>\n",
       "      <td>0.399656</td>\n",
       "      <td>10839.455965</td>\n",
       "      <td>11207.480417</td>\n",
       "      <td>44457.609458</td>\n",
       "      <td>57385.775334</td>\n",
       "      <td>7.573982</td>\n",
       "      <td>0.846047</td>\n",
       "      <td>1.127266</td>\n",
       "      <td>85.810092</td>\n",
       "      <td>1.728675</td>\n",
       "      <td>10.138933</td>\n",
       "      <td>8.601746</td>\n",
       "    </tr>\n",
       "    <tr>\n",
       "      <th>min</th>\n",
       "      <td>0.000000</td>\n",
       "      <td>224.000000</td>\n",
       "      <td>1100.000000</td>\n",
       "      <td>2063.000000</td>\n",
       "      <td>8000.000000</td>\n",
       "      <td>0.000000</td>\n",
       "      <td>0.000000</td>\n",
       "      <td>0.000000</td>\n",
       "      <td>0.000000</td>\n",
       "      <td>0.000000</td>\n",
       "      <td>0.000000</td>\n",
       "      <td>0.524499</td>\n",
       "    </tr>\n",
       "    <tr>\n",
       "      <th>25%</th>\n",
       "      <td>0.000000</td>\n",
       "      <td>5639.000000</td>\n",
       "      <td>11100.000000</td>\n",
       "      <td>46276.000000</td>\n",
       "      <td>66075.500000</td>\n",
       "      <td>3.000000</td>\n",
       "      <td>0.000000</td>\n",
       "      <td>0.000000</td>\n",
       "      <td>115.116702</td>\n",
       "      <td>0.000000</td>\n",
       "      <td>15.000000</td>\n",
       "      <td>29.140031</td>\n",
       "    </tr>\n",
       "    <tr>\n",
       "      <th>50%</th>\n",
       "      <td>0.000000</td>\n",
       "      <td>11003.000000</td>\n",
       "      <td>16300.000000</td>\n",
       "      <td>65019.000000</td>\n",
       "      <td>89235.500000</td>\n",
       "      <td>7.000000</td>\n",
       "      <td>0.000000</td>\n",
       "      <td>0.000000</td>\n",
       "      <td>173.466667</td>\n",
       "      <td>1.000000</td>\n",
       "      <td>20.000000</td>\n",
       "      <td>34.818262</td>\n",
       "    </tr>\n",
       "    <tr>\n",
       "      <th>75%</th>\n",
       "      <td>0.000000</td>\n",
       "      <td>17634.000000</td>\n",
       "      <td>23300.000000</td>\n",
       "      <td>91488.000000</td>\n",
       "      <td>119824.250000</td>\n",
       "      <td>13.000000</td>\n",
       "      <td>0.000000</td>\n",
       "      <td>0.000000</td>\n",
       "      <td>231.562278</td>\n",
       "      <td>2.000000</td>\n",
       "      <td>26.000000</td>\n",
       "      <td>39.003141</td>\n",
       "    </tr>\n",
       "    <tr>\n",
       "      <th>max</th>\n",
       "      <td>1.000000</td>\n",
       "      <td>78987.000000</td>\n",
       "      <td>89900.000000</td>\n",
       "      <td>399550.000000</td>\n",
       "      <td>855909.000000</td>\n",
       "      <td>41.000000</td>\n",
       "      <td>10.000000</td>\n",
       "      <td>15.000000</td>\n",
       "      <td>1168.233561</td>\n",
       "      <td>17.000000</td>\n",
       "      <td>71.000000</td>\n",
       "      <td>203.312149</td>\n",
       "    </tr>\n",
       "  </tbody>\n",
       "</table>\n",
       "</div>"
      ],
      "text/plain": [
       "       TARGET_BAD_FLAG  TARGET_LOSS_AMT          LOAN        MORTDUE  \\\n",
       "count      5960.000000      1189.000000   5960.000000    5442.000000   \n",
       "mean          0.199497     13414.576955  18607.969799   73760.817200   \n",
       "std           0.399656     10839.455965  11207.480417   44457.609458   \n",
       "min           0.000000       224.000000   1100.000000    2063.000000   \n",
       "25%           0.000000      5639.000000  11100.000000   46276.000000   \n",
       "50%           0.000000     11003.000000  16300.000000   65019.000000   \n",
       "75%           0.000000     17634.000000  23300.000000   91488.000000   \n",
       "max           1.000000     78987.000000  89900.000000  399550.000000   \n",
       "\n",
       "               VALUE          YOJ        DEROG       DELINQ        CLAGE  \\\n",
       "count    5848.000000  5445.000000  5252.000000  5380.000000  5652.000000   \n",
       "mean   101776.048741     8.922268     0.254570     0.449442   179.766275   \n",
       "std     57385.775334     7.573982     0.846047     1.127266    85.810092   \n",
       "min      8000.000000     0.000000     0.000000     0.000000     0.000000   \n",
       "25%     66075.500000     3.000000     0.000000     0.000000   115.116702   \n",
       "50%     89235.500000     7.000000     0.000000     0.000000   173.466667   \n",
       "75%    119824.250000    13.000000     0.000000     0.000000   231.562278   \n",
       "max    855909.000000    41.000000    10.000000    15.000000  1168.233561   \n",
       "\n",
       "              NINQ         CLNO      DEBTINC  \n",
       "count  5450.000000  5738.000000  4693.000000  \n",
       "mean      1.186055    21.296096    33.779915  \n",
       "std       1.728675    10.138933     8.601746  \n",
       "min       0.000000     0.000000     0.524499  \n",
       "25%       0.000000    15.000000    29.140031  \n",
       "50%       1.000000    20.000000    34.818262  \n",
       "75%       2.000000    26.000000    39.003141  \n",
       "max      17.000000    71.000000   203.312149  "
      ]
     },
     "execution_count": 7,
     "metadata": {},
     "output_type": "execute_result"
    }
   ],
   "source": [
    "description= df.describe()\n",
    "description"
   ]
  },
  {
   "cell_type": "code",
   "execution_count": 8,
   "id": "652c8134",
   "metadata": {},
   "outputs": [
    {
     "data": {
      "text/plain": [
       "TARGET_BAD_FLAG      int64\n",
       "TARGET_LOSS_AMT    float64\n",
       "LOAN                 int64\n",
       "MORTDUE            float64\n",
       "VALUE              float64\n",
       "REASON              object\n",
       "JOB                 object\n",
       "YOJ                float64\n",
       "DEROG              float64\n",
       "DELINQ             float64\n",
       "CLAGE              float64\n",
       "NINQ               float64\n",
       "CLNO               float64\n",
       "DEBTINC            float64\n",
       "dtype: object"
      ]
     },
     "execution_count": 8,
     "metadata": {},
     "output_type": "execute_result"
    }
   ],
   "source": [
    "df.dtypes"
   ]
  },
  {
   "cell_type": "markdown",
   "id": "bc7b338b",
   "metadata": {},
   "source": [
    "### Target Variables"
   ]
  },
  {
   "cell_type": "code",
   "execution_count": 9,
   "id": "491b9b15",
   "metadata": {},
   "outputs": [
    {
     "data": {
      "text/plain": [
       "0    4771\n",
       "1    1189\n",
       "Name: TARGET_BAD_FLAG, dtype: int64"
      ]
     },
     "execution_count": 9,
     "metadata": {},
     "output_type": "execute_result"
    }
   ],
   "source": [
    "df.TARGET_BAD_FLAG.value_counts()"
   ]
  },
  {
   "cell_type": "code",
   "execution_count": 10,
   "id": "2bc25044",
   "metadata": {},
   "outputs": [
    {
     "data": {
      "text/plain": [
       "4771"
      ]
     },
     "execution_count": 10,
     "metadata": {},
     "output_type": "execute_result"
    }
   ],
   "source": [
    "df.TARGET_LOSS_AMT.isna().sum()"
   ]
  },
  {
   "cell_type": "markdown",
   "id": "c3ba8862",
   "metadata": {},
   "source": [
    "* All NaN values in TARGET_LOSS_AMT indicate the borrower did not have a bad flag; therefore, I will need to imput NaN to 0. "
   ]
  },
  {
   "cell_type": "code",
   "execution_count": 11,
   "id": "fde9608e",
   "metadata": {},
   "outputs": [
    {
     "data": {
      "text/html": [
       "<div>\n",
       "<style scoped>\n",
       "    .dataframe tbody tr th:only-of-type {\n",
       "        vertical-align: middle;\n",
       "    }\n",
       "\n",
       "    .dataframe tbody tr th {\n",
       "        vertical-align: top;\n",
       "    }\n",
       "\n",
       "    .dataframe thead th {\n",
       "        text-align: right;\n",
       "    }\n",
       "</style>\n",
       "<table border=\"1\" class=\"dataframe\">\n",
       "  <thead>\n",
       "    <tr style=\"text-align: right;\">\n",
       "      <th></th>\n",
       "      <th>TARGET_BAD_FLAG</th>\n",
       "      <th>TARGET_LOSS_AMT</th>\n",
       "      <th>LOAN</th>\n",
       "      <th>MORTDUE</th>\n",
       "      <th>VALUE</th>\n",
       "      <th>REASON</th>\n",
       "      <th>JOB</th>\n",
       "      <th>YOJ</th>\n",
       "      <th>DEROG</th>\n",
       "      <th>DELINQ</th>\n",
       "      <th>CLAGE</th>\n",
       "      <th>NINQ</th>\n",
       "      <th>CLNO</th>\n",
       "      <th>DEBTINC</th>\n",
       "    </tr>\n",
       "  </thead>\n",
       "  <tbody>\n",
       "    <tr>\n",
       "      <th>4</th>\n",
       "      <td>0</td>\n",
       "      <td>NaN</td>\n",
       "      <td>1700</td>\n",
       "      <td>97800.0</td>\n",
       "      <td>112000.0</td>\n",
       "      <td>HomeImp</td>\n",
       "      <td>Office</td>\n",
       "      <td>3.0</td>\n",
       "      <td>0.0</td>\n",
       "      <td>0.0</td>\n",
       "      <td>93.333333</td>\n",
       "      <td>0.0</td>\n",
       "      <td>14.0</td>\n",
       "      <td>NaN</td>\n",
       "    </tr>\n",
       "    <tr>\n",
       "      <th>13</th>\n",
       "      <td>0</td>\n",
       "      <td>NaN</td>\n",
       "      <td>2000</td>\n",
       "      <td>64536.0</td>\n",
       "      <td>87400.0</td>\n",
       "      <td>NaN</td>\n",
       "      <td>Mgr</td>\n",
       "      <td>2.5</td>\n",
       "      <td>0.0</td>\n",
       "      <td>0.0</td>\n",
       "      <td>147.133333</td>\n",
       "      <td>0.0</td>\n",
       "      <td>24.0</td>\n",
       "      <td>NaN</td>\n",
       "    </tr>\n",
       "    <tr>\n",
       "      <th>19</th>\n",
       "      <td>0</td>\n",
       "      <td>NaN</td>\n",
       "      <td>2300</td>\n",
       "      <td>102370.0</td>\n",
       "      <td>120953.0</td>\n",
       "      <td>HomeImp</td>\n",
       "      <td>Office</td>\n",
       "      <td>2.0</td>\n",
       "      <td>0.0</td>\n",
       "      <td>0.0</td>\n",
       "      <td>90.992533</td>\n",
       "      <td>0.0</td>\n",
       "      <td>13.0</td>\n",
       "      <td>31.588503</td>\n",
       "    </tr>\n",
       "    <tr>\n",
       "      <th>26</th>\n",
       "      <td>0</td>\n",
       "      <td>NaN</td>\n",
       "      <td>2400</td>\n",
       "      <td>98449.0</td>\n",
       "      <td>117195.0</td>\n",
       "      <td>HomeImp</td>\n",
       "      <td>Office</td>\n",
       "      <td>4.0</td>\n",
       "      <td>0.0</td>\n",
       "      <td>0.0</td>\n",
       "      <td>93.811775</td>\n",
       "      <td>0.0</td>\n",
       "      <td>13.0</td>\n",
       "      <td>29.681827</td>\n",
       "    </tr>\n",
       "    <tr>\n",
       "      <th>29</th>\n",
       "      <td>0</td>\n",
       "      <td>NaN</td>\n",
       "      <td>2500</td>\n",
       "      <td>7229.0</td>\n",
       "      <td>44516.0</td>\n",
       "      <td>HomeImp</td>\n",
       "      <td>Self</td>\n",
       "      <td>NaN</td>\n",
       "      <td>0.0</td>\n",
       "      <td>0.0</td>\n",
       "      <td>208.000000</td>\n",
       "      <td>0.0</td>\n",
       "      <td>12.0</td>\n",
       "      <td>NaN</td>\n",
       "    </tr>\n",
       "  </tbody>\n",
       "</table>\n",
       "</div>"
      ],
      "text/plain": [
       "    TARGET_BAD_FLAG  TARGET_LOSS_AMT  LOAN   MORTDUE     VALUE   REASON  \\\n",
       "4                 0              NaN  1700   97800.0  112000.0  HomeImp   \n",
       "13                0              NaN  2000   64536.0   87400.0      NaN   \n",
       "19                0              NaN  2300  102370.0  120953.0  HomeImp   \n",
       "26                0              NaN  2400   98449.0  117195.0  HomeImp   \n",
       "29                0              NaN  2500    7229.0   44516.0  HomeImp   \n",
       "\n",
       "       JOB  YOJ  DEROG  DELINQ       CLAGE  NINQ  CLNO    DEBTINC  \n",
       "4   Office  3.0    0.0     0.0   93.333333   0.0  14.0        NaN  \n",
       "13     Mgr  2.5    0.0     0.0  147.133333   0.0  24.0        NaN  \n",
       "19  Office  2.0    0.0     0.0   90.992533   0.0  13.0  31.588503  \n",
       "26  Office  4.0    0.0     0.0   93.811775   0.0  13.0  29.681827  \n",
       "29    Self  NaN    0.0     0.0  208.000000   0.0  12.0        NaN  "
      ]
     },
     "execution_count": 11,
     "metadata": {},
     "output_type": "execute_result"
    }
   ],
   "source": [
    "Good_df = df[df[\"TARGET_BAD_FLAG\"] == 0]\n",
    "Good_df.head()"
   ]
  },
  {
   "cell_type": "code",
   "execution_count": 12,
   "id": "c0aa6d42",
   "metadata": {},
   "outputs": [
    {
     "data": {
      "text/html": [
       "<div>\n",
       "<style scoped>\n",
       "    .dataframe tbody tr th:only-of-type {\n",
       "        vertical-align: middle;\n",
       "    }\n",
       "\n",
       "    .dataframe tbody tr th {\n",
       "        vertical-align: top;\n",
       "    }\n",
       "\n",
       "    .dataframe thead th {\n",
       "        text-align: right;\n",
       "    }\n",
       "</style>\n",
       "<table border=\"1\" class=\"dataframe\">\n",
       "  <thead>\n",
       "    <tr style=\"text-align: right;\">\n",
       "      <th></th>\n",
       "      <th>TARGET_BAD_FLAG</th>\n",
       "      <th>TARGET_LOSS_AMT</th>\n",
       "      <th>LOAN</th>\n",
       "      <th>MORTDUE</th>\n",
       "      <th>VALUE</th>\n",
       "      <th>YOJ</th>\n",
       "      <th>DEROG</th>\n",
       "      <th>DELINQ</th>\n",
       "      <th>CLAGE</th>\n",
       "      <th>NINQ</th>\n",
       "      <th>CLNO</th>\n",
       "      <th>DEBTINC</th>\n",
       "    </tr>\n",
       "  </thead>\n",
       "  <tbody>\n",
       "    <tr>\n",
       "      <th>count</th>\n",
       "      <td>4771.0</td>\n",
       "      <td>0.0</td>\n",
       "      <td>4771.000000</td>\n",
       "      <td>4359.000000</td>\n",
       "      <td>4764.000000</td>\n",
       "      <td>4321.000000</td>\n",
       "      <td>4150.000000</td>\n",
       "      <td>4263.000000</td>\n",
       "      <td>4541.000000</td>\n",
       "      <td>4336.000000</td>\n",
       "      <td>4602.000000</td>\n",
       "      <td>4290.000000</td>\n",
       "    </tr>\n",
       "    <tr>\n",
       "      <th>mean</th>\n",
       "      <td>0.0</td>\n",
       "      <td>NaN</td>\n",
       "      <td>19028.107315</td>\n",
       "      <td>74829.249055</td>\n",
       "      <td>102595.921018</td>\n",
       "      <td>9.154941</td>\n",
       "      <td>0.134217</td>\n",
       "      <td>0.245133</td>\n",
       "      <td>187.002355</td>\n",
       "      <td>1.032749</td>\n",
       "      <td>21.317036</td>\n",
       "      <td>33.253129</td>\n",
       "    </tr>\n",
       "    <tr>\n",
       "      <th>std</th>\n",
       "      <td>0.0</td>\n",
       "      <td>NaN</td>\n",
       "      <td>11115.758554</td>\n",
       "      <td>43584.993587</td>\n",
       "      <td>52748.392952</td>\n",
       "      <td>7.676033</td>\n",
       "      <td>0.514490</td>\n",
       "      <td>0.674124</td>\n",
       "      <td>84.465217</td>\n",
       "      <td>1.531322</td>\n",
       "      <td>9.682601</td>\n",
       "      <td>6.947482</td>\n",
       "    </tr>\n",
       "    <tr>\n",
       "      <th>min</th>\n",
       "      <td>0.0</td>\n",
       "      <td>NaN</td>\n",
       "      <td>1700.000000</td>\n",
       "      <td>2619.000000</td>\n",
       "      <td>8000.000000</td>\n",
       "      <td>0.000000</td>\n",
       "      <td>0.000000</td>\n",
       "      <td>0.000000</td>\n",
       "      <td>0.486711</td>\n",
       "      <td>0.000000</td>\n",
       "      <td>0.000000</td>\n",
       "      <td>0.720295</td>\n",
       "    </tr>\n",
       "    <tr>\n",
       "      <th>25%</th>\n",
       "      <td>0.0</td>\n",
       "      <td>NaN</td>\n",
       "      <td>11700.000000</td>\n",
       "      <td>47484.000000</td>\n",
       "      <td>67297.750000</td>\n",
       "      <td>3.000000</td>\n",
       "      <td>0.000000</td>\n",
       "      <td>0.000000</td>\n",
       "      <td>120.219885</td>\n",
       "      <td>0.000000</td>\n",
       "      <td>15.000000</td>\n",
       "      <td>28.905127</td>\n",
       "    </tr>\n",
       "    <tr>\n",
       "      <th>50%</th>\n",
       "      <td>0.0</td>\n",
       "      <td>NaN</td>\n",
       "      <td>16900.000000</td>\n",
       "      <td>66839.000000</td>\n",
       "      <td>90659.000000</td>\n",
       "      <td>7.000000</td>\n",
       "      <td>0.000000</td>\n",
       "      <td>0.000000</td>\n",
       "      <td>180.415787</td>\n",
       "      <td>1.000000</td>\n",
       "      <td>20.000000</td>\n",
       "      <td>34.541671</td>\n",
       "    </tr>\n",
       "    <tr>\n",
       "      <th>75%</th>\n",
       "      <td>0.0</td>\n",
       "      <td>NaN</td>\n",
       "      <td>23500.000000</td>\n",
       "      <td>93068.000000</td>\n",
       "      <td>120615.500000</td>\n",
       "      <td>13.000000</td>\n",
       "      <td>0.000000</td>\n",
       "      <td>0.000000</td>\n",
       "      <td>240.157802</td>\n",
       "      <td>2.000000</td>\n",
       "      <td>26.000000</td>\n",
       "      <td>38.739077</td>\n",
       "    </tr>\n",
       "    <tr>\n",
       "      <th>max</th>\n",
       "      <td>0.0</td>\n",
       "      <td>NaN</td>\n",
       "      <td>89900.000000</td>\n",
       "      <td>371003.000000</td>\n",
       "      <td>471827.000000</td>\n",
       "      <td>36.000000</td>\n",
       "      <td>6.000000</td>\n",
       "      <td>5.000000</td>\n",
       "      <td>649.747104</td>\n",
       "      <td>11.000000</td>\n",
       "      <td>56.000000</td>\n",
       "      <td>45.569843</td>\n",
       "    </tr>\n",
       "  </tbody>\n",
       "</table>\n",
       "</div>"
      ],
      "text/plain": [
       "       TARGET_BAD_FLAG  TARGET_LOSS_AMT          LOAN        MORTDUE  \\\n",
       "count           4771.0              0.0   4771.000000    4359.000000   \n",
       "mean               0.0              NaN  19028.107315   74829.249055   \n",
       "std                0.0              NaN  11115.758554   43584.993587   \n",
       "min                0.0              NaN   1700.000000    2619.000000   \n",
       "25%                0.0              NaN  11700.000000   47484.000000   \n",
       "50%                0.0              NaN  16900.000000   66839.000000   \n",
       "75%                0.0              NaN  23500.000000   93068.000000   \n",
       "max                0.0              NaN  89900.000000  371003.000000   \n",
       "\n",
       "               VALUE          YOJ        DEROG       DELINQ        CLAGE  \\\n",
       "count    4764.000000  4321.000000  4150.000000  4263.000000  4541.000000   \n",
       "mean   102595.921018     9.154941     0.134217     0.245133   187.002355   \n",
       "std     52748.392952     7.676033     0.514490     0.674124    84.465217   \n",
       "min      8000.000000     0.000000     0.000000     0.000000     0.486711   \n",
       "25%     67297.750000     3.000000     0.000000     0.000000   120.219885   \n",
       "50%     90659.000000     7.000000     0.000000     0.000000   180.415787   \n",
       "75%    120615.500000    13.000000     0.000000     0.000000   240.157802   \n",
       "max    471827.000000    36.000000     6.000000     5.000000   649.747104   \n",
       "\n",
       "              NINQ         CLNO      DEBTINC  \n",
       "count  4336.000000  4602.000000  4290.000000  \n",
       "mean      1.032749    21.317036    33.253129  \n",
       "std       1.531322     9.682601     6.947482  \n",
       "min       0.000000     0.000000     0.720295  \n",
       "25%       0.000000    15.000000    28.905127  \n",
       "50%       1.000000    20.000000    34.541671  \n",
       "75%       2.000000    26.000000    38.739077  \n",
       "max      11.000000    56.000000    45.569843  "
      ]
     },
     "execution_count": 12,
     "metadata": {},
     "output_type": "execute_result"
    }
   ],
   "source": [
    "Good_df.describe()"
   ]
  },
  {
   "cell_type": "code",
   "execution_count": 13,
   "id": "4537e5b0",
   "metadata": {
    "scrolled": true
   },
   "outputs": [
    {
     "data": {
      "text/html": [
       "<div>\n",
       "<style scoped>\n",
       "    .dataframe tbody tr th:only-of-type {\n",
       "        vertical-align: middle;\n",
       "    }\n",
       "\n",
       "    .dataframe tbody tr th {\n",
       "        vertical-align: top;\n",
       "    }\n",
       "\n",
       "    .dataframe thead th {\n",
       "        text-align: right;\n",
       "    }\n",
       "</style>\n",
       "<table border=\"1\" class=\"dataframe\">\n",
       "  <thead>\n",
       "    <tr style=\"text-align: right;\">\n",
       "      <th></th>\n",
       "      <th>TARGET_BAD_FLAG</th>\n",
       "      <th>TARGET_LOSS_AMT</th>\n",
       "      <th>LOAN</th>\n",
       "      <th>MORTDUE</th>\n",
       "      <th>VALUE</th>\n",
       "      <th>REASON</th>\n",
       "      <th>JOB</th>\n",
       "      <th>YOJ</th>\n",
       "      <th>DEROG</th>\n",
       "      <th>DELINQ</th>\n",
       "      <th>CLAGE</th>\n",
       "      <th>NINQ</th>\n",
       "      <th>CLNO</th>\n",
       "      <th>DEBTINC</th>\n",
       "    </tr>\n",
       "  </thead>\n",
       "  <tbody>\n",
       "    <tr>\n",
       "      <th>0</th>\n",
       "      <td>1</td>\n",
       "      <td>641.0</td>\n",
       "      <td>1100</td>\n",
       "      <td>25860.0</td>\n",
       "      <td>39025.0</td>\n",
       "      <td>HomeImp</td>\n",
       "      <td>Other</td>\n",
       "      <td>10.5</td>\n",
       "      <td>0.0</td>\n",
       "      <td>0.0</td>\n",
       "      <td>94.366667</td>\n",
       "      <td>1.0</td>\n",
       "      <td>9.0</td>\n",
       "      <td>NaN</td>\n",
       "    </tr>\n",
       "    <tr>\n",
       "      <th>1</th>\n",
       "      <td>1</td>\n",
       "      <td>1109.0</td>\n",
       "      <td>1300</td>\n",
       "      <td>70053.0</td>\n",
       "      <td>68400.0</td>\n",
       "      <td>HomeImp</td>\n",
       "      <td>Other</td>\n",
       "      <td>7.0</td>\n",
       "      <td>0.0</td>\n",
       "      <td>2.0</td>\n",
       "      <td>121.833333</td>\n",
       "      <td>0.0</td>\n",
       "      <td>14.0</td>\n",
       "      <td>NaN</td>\n",
       "    </tr>\n",
       "    <tr>\n",
       "      <th>2</th>\n",
       "      <td>1</td>\n",
       "      <td>767.0</td>\n",
       "      <td>1500</td>\n",
       "      <td>13500.0</td>\n",
       "      <td>16700.0</td>\n",
       "      <td>HomeImp</td>\n",
       "      <td>Other</td>\n",
       "      <td>4.0</td>\n",
       "      <td>0.0</td>\n",
       "      <td>0.0</td>\n",
       "      <td>149.466667</td>\n",
       "      <td>1.0</td>\n",
       "      <td>10.0</td>\n",
       "      <td>NaN</td>\n",
       "    </tr>\n",
       "    <tr>\n",
       "      <th>3</th>\n",
       "      <td>1</td>\n",
       "      <td>1425.0</td>\n",
       "      <td>1500</td>\n",
       "      <td>NaN</td>\n",
       "      <td>NaN</td>\n",
       "      <td>NaN</td>\n",
       "      <td>NaN</td>\n",
       "      <td>NaN</td>\n",
       "      <td>NaN</td>\n",
       "      <td>NaN</td>\n",
       "      <td>NaN</td>\n",
       "      <td>NaN</td>\n",
       "      <td>NaN</td>\n",
       "      <td>NaN</td>\n",
       "    </tr>\n",
       "    <tr>\n",
       "      <th>5</th>\n",
       "      <td>1</td>\n",
       "      <td>335.0</td>\n",
       "      <td>1700</td>\n",
       "      <td>30548.0</td>\n",
       "      <td>40320.0</td>\n",
       "      <td>HomeImp</td>\n",
       "      <td>Other</td>\n",
       "      <td>9.0</td>\n",
       "      <td>0.0</td>\n",
       "      <td>0.0</td>\n",
       "      <td>101.466002</td>\n",
       "      <td>1.0</td>\n",
       "      <td>8.0</td>\n",
       "      <td>37.113614</td>\n",
       "    </tr>\n",
       "  </tbody>\n",
       "</table>\n",
       "</div>"
      ],
      "text/plain": [
       "   TARGET_BAD_FLAG  TARGET_LOSS_AMT  LOAN  MORTDUE    VALUE   REASON    JOB  \\\n",
       "0                1            641.0  1100  25860.0  39025.0  HomeImp  Other   \n",
       "1                1           1109.0  1300  70053.0  68400.0  HomeImp  Other   \n",
       "2                1            767.0  1500  13500.0  16700.0  HomeImp  Other   \n",
       "3                1           1425.0  1500      NaN      NaN      NaN    NaN   \n",
       "5                1            335.0  1700  30548.0  40320.0  HomeImp  Other   \n",
       "\n",
       "    YOJ  DEROG  DELINQ       CLAGE  NINQ  CLNO    DEBTINC  \n",
       "0  10.5    0.0     0.0   94.366667   1.0   9.0        NaN  \n",
       "1   7.0    0.0     2.0  121.833333   0.0  14.0        NaN  \n",
       "2   4.0    0.0     0.0  149.466667   1.0  10.0        NaN  \n",
       "3   NaN    NaN     NaN         NaN   NaN   NaN        NaN  \n",
       "5   9.0    0.0     0.0  101.466002   1.0   8.0  37.113614  "
      ]
     },
     "execution_count": 13,
     "metadata": {},
     "output_type": "execute_result"
    }
   ],
   "source": [
    "Bad_df = df[df[\"TARGET_BAD_FLAG\"] == 1]\n",
    "Bad_df.head()"
   ]
  },
  {
   "cell_type": "code",
   "execution_count": 14,
   "id": "440c1372",
   "metadata": {},
   "outputs": [
    {
     "data": {
      "text/html": [
       "<div>\n",
       "<style scoped>\n",
       "    .dataframe tbody tr th:only-of-type {\n",
       "        vertical-align: middle;\n",
       "    }\n",
       "\n",
       "    .dataframe tbody tr th {\n",
       "        vertical-align: top;\n",
       "    }\n",
       "\n",
       "    .dataframe thead th {\n",
       "        text-align: right;\n",
       "    }\n",
       "</style>\n",
       "<table border=\"1\" class=\"dataframe\">\n",
       "  <thead>\n",
       "    <tr style=\"text-align: right;\">\n",
       "      <th></th>\n",
       "      <th>TARGET_BAD_FLAG</th>\n",
       "      <th>TARGET_LOSS_AMT</th>\n",
       "      <th>LOAN</th>\n",
       "      <th>MORTDUE</th>\n",
       "      <th>VALUE</th>\n",
       "      <th>YOJ</th>\n",
       "      <th>DEROG</th>\n",
       "      <th>DELINQ</th>\n",
       "      <th>CLAGE</th>\n",
       "      <th>NINQ</th>\n",
       "      <th>CLNO</th>\n",
       "      <th>DEBTINC</th>\n",
       "    </tr>\n",
       "  </thead>\n",
       "  <tbody>\n",
       "    <tr>\n",
       "      <th>count</th>\n",
       "      <td>1189.0</td>\n",
       "      <td>1189.000000</td>\n",
       "      <td>1189.000000</td>\n",
       "      <td>1083.000000</td>\n",
       "      <td>1084.000000</td>\n",
       "      <td>1124.000000</td>\n",
       "      <td>1102.000000</td>\n",
       "      <td>1117.000000</td>\n",
       "      <td>1111.000000</td>\n",
       "      <td>1114.000000</td>\n",
       "      <td>1136.000000</td>\n",
       "      <td>403.000000</td>\n",
       "    </tr>\n",
       "    <tr>\n",
       "      <th>mean</th>\n",
       "      <td>1.0</td>\n",
       "      <td>13414.576955</td>\n",
       "      <td>16922.119428</td>\n",
       "      <td>69460.452973</td>\n",
       "      <td>98172.846227</td>\n",
       "      <td>8.027802</td>\n",
       "      <td>0.707804</td>\n",
       "      <td>1.229185</td>\n",
       "      <td>150.190183</td>\n",
       "      <td>1.782765</td>\n",
       "      <td>21.211268</td>\n",
       "      <td>39.387645</td>\n",
       "    </tr>\n",
       "    <tr>\n",
       "      <th>std</th>\n",
       "      <td>0.0</td>\n",
       "      <td>10839.455965</td>\n",
       "      <td>11418.455152</td>\n",
       "      <td>47588.194467</td>\n",
       "      <td>74339.822506</td>\n",
       "      <td>7.100735</td>\n",
       "      <td>1.468381</td>\n",
       "      <td>1.902961</td>\n",
       "      <td>84.952286</td>\n",
       "      <td>2.246976</td>\n",
       "      <td>11.812981</td>\n",
       "      <td>17.723586</td>\n",
       "    </tr>\n",
       "    <tr>\n",
       "      <th>min</th>\n",
       "      <td>1.0</td>\n",
       "      <td>224.000000</td>\n",
       "      <td>1100.000000</td>\n",
       "      <td>2063.000000</td>\n",
       "      <td>8800.000000</td>\n",
       "      <td>0.000000</td>\n",
       "      <td>0.000000</td>\n",
       "      <td>0.000000</td>\n",
       "      <td>0.000000</td>\n",
       "      <td>0.000000</td>\n",
       "      <td>0.000000</td>\n",
       "      <td>0.524499</td>\n",
       "    </tr>\n",
       "    <tr>\n",
       "      <th>25%</th>\n",
       "      <td>1.0</td>\n",
       "      <td>5639.000000</td>\n",
       "      <td>9200.000000</td>\n",
       "      <td>39946.500000</td>\n",
       "      <td>59368.250000</td>\n",
       "      <td>2.000000</td>\n",
       "      <td>0.000000</td>\n",
       "      <td>0.000000</td>\n",
       "      <td>96.033333</td>\n",
       "      <td>0.000000</td>\n",
       "      <td>13.000000</td>\n",
       "      <td>32.383046</td>\n",
       "    </tr>\n",
       "    <tr>\n",
       "      <th>50%</th>\n",
       "      <td>1.0</td>\n",
       "      <td>11003.000000</td>\n",
       "      <td>14900.000000</td>\n",
       "      <td>60279.000000</td>\n",
       "      <td>82000.000000</td>\n",
       "      <td>6.000000</td>\n",
       "      <td>0.000000</td>\n",
       "      <td>0.000000</td>\n",
       "      <td>132.866667</td>\n",
       "      <td>1.000000</td>\n",
       "      <td>20.000000</td>\n",
       "      <td>38.079762</td>\n",
       "    </tr>\n",
       "    <tr>\n",
       "      <th>75%</th>\n",
       "      <td>1.0</td>\n",
       "      <td>17634.000000</td>\n",
       "      <td>21700.000000</td>\n",
       "      <td>85864.500000</td>\n",
       "      <td>116000.000000</td>\n",
       "      <td>12.000000</td>\n",
       "      <td>1.000000</td>\n",
       "      <td>2.000000</td>\n",
       "      <td>193.283333</td>\n",
       "      <td>3.000000</td>\n",
       "      <td>28.000000</td>\n",
       "      <td>43.285990</td>\n",
       "    </tr>\n",
       "    <tr>\n",
       "      <th>max</th>\n",
       "      <td>1.0</td>\n",
       "      <td>78987.000000</td>\n",
       "      <td>77400.000000</td>\n",
       "      <td>399550.000000</td>\n",
       "      <td>855909.000000</td>\n",
       "      <td>41.000000</td>\n",
       "      <td>10.000000</td>\n",
       "      <td>15.000000</td>\n",
       "      <td>1168.233561</td>\n",
       "      <td>17.000000</td>\n",
       "      <td>71.000000</td>\n",
       "      <td>203.312149</td>\n",
       "    </tr>\n",
       "  </tbody>\n",
       "</table>\n",
       "</div>"
      ],
      "text/plain": [
       "       TARGET_BAD_FLAG  TARGET_LOSS_AMT          LOAN        MORTDUE  \\\n",
       "count           1189.0      1189.000000   1189.000000    1083.000000   \n",
       "mean               1.0     13414.576955  16922.119428   69460.452973   \n",
       "std                0.0     10839.455965  11418.455152   47588.194467   \n",
       "min                1.0       224.000000   1100.000000    2063.000000   \n",
       "25%                1.0      5639.000000   9200.000000   39946.500000   \n",
       "50%                1.0     11003.000000  14900.000000   60279.000000   \n",
       "75%                1.0     17634.000000  21700.000000   85864.500000   \n",
       "max                1.0     78987.000000  77400.000000  399550.000000   \n",
       "\n",
       "               VALUE          YOJ        DEROG       DELINQ        CLAGE  \\\n",
       "count    1084.000000  1124.000000  1102.000000  1117.000000  1111.000000   \n",
       "mean    98172.846227     8.027802     0.707804     1.229185   150.190183   \n",
       "std     74339.822506     7.100735     1.468381     1.902961    84.952286   \n",
       "min      8800.000000     0.000000     0.000000     0.000000     0.000000   \n",
       "25%     59368.250000     2.000000     0.000000     0.000000    96.033333   \n",
       "50%     82000.000000     6.000000     0.000000     0.000000   132.866667   \n",
       "75%    116000.000000    12.000000     1.000000     2.000000   193.283333   \n",
       "max    855909.000000    41.000000    10.000000    15.000000  1168.233561   \n",
       "\n",
       "              NINQ         CLNO     DEBTINC  \n",
       "count  1114.000000  1136.000000  403.000000  \n",
       "mean      1.782765    21.211268   39.387645  \n",
       "std       2.246976    11.812981   17.723586  \n",
       "min       0.000000     0.000000    0.524499  \n",
       "25%       0.000000    13.000000   32.383046  \n",
       "50%       1.000000    20.000000   38.079762  \n",
       "75%       3.000000    28.000000   43.285990  \n",
       "max      17.000000    71.000000  203.312149  "
      ]
     },
     "execution_count": 14,
     "metadata": {},
     "output_type": "execute_result"
    }
   ],
   "source": [
    "Bad_df.describe()"
   ]
  },
  {
   "cell_type": "markdown",
   "id": "5a5062f1",
   "metadata": {},
   "source": [
    "### Input Variables"
   ]
  },
  {
   "cell_type": "code",
   "execution_count": 15,
   "id": "5399f4e2",
   "metadata": {},
   "outputs": [],
   "source": [
    "dt = df.dtypes\n",
    "\n",
    "objList = []\n",
    "numList = []\n",
    "\n",
    "for i in dt.index:\n",
    "    if i in([\"TARGET_BAD_FLAG\",\"TARGET_LOSS_AMT\"]): continue\n",
    "    if dt[i] in ([\"float64\",\"int64\"]): numList.append(i)\n",
    "    if dt[i] in ([\"object\"]): objList.append(i)\n"
   ]
  },
  {
   "cell_type": "code",
   "execution_count": 16,
   "id": "6d5a1ca7",
   "metadata": {},
   "outputs": [
    {
     "name": "stdout",
     "output_type": "stream",
     "text": [
      "REASON\n",
      "['HomeImp' nan 'DebtCon']\n",
      "REASON\n",
      "DebtCon    3928\n",
      "HomeImp    1780\n",
      "Name: REASON, dtype: int64\n",
      "MOST COMMON =  DebtCon\n",
      "MISSING =  252\n",
      "JOB\n",
      "['Other' nan 'Office' 'Sales' 'Mgr' 'ProfExe' 'Self']\n",
      "JOB\n",
      "Mgr         767\n",
      "Office      948\n",
      "Other      2388\n",
      "ProfExe    1276\n",
      "Sales       109\n",
      "Self        193\n",
      "Name: JOB, dtype: int64\n",
      "MOST COMMON =  Other\n",
      "MISSING =  279\n"
     ]
    }
   ],
   "source": [
    "for i in objList :\n",
    "    print( i )\n",
    "    print( df[i].unique() )\n",
    "    g = df.groupby( i )\n",
    "    print( g[i].count() )\n",
    "    print( \"MOST COMMON = \", df[i].mode()[0] )\n",
    "    print( \"MISSING = \", df[i].isna().sum() )  "
   ]
  },
  {
   "cell_type": "code",
   "execution_count": 18,
   "id": "97abb838",
   "metadata": {},
   "outputs": [
    {
     "name": "stdout",
     "output_type": "stream",
     "text": [
      " Class =  REASON\n",
      "REASON\n",
      "DebtCon    3928\n",
      "HomeImp    1780\n",
      "Name: REASON, dtype: int64\n",
      "Bad Flag REASON\n",
      "DebtCon    0.189664\n",
      "HomeImp    0.222472\n",
      "Name: TARGET_BAD_FLAG, dtype: float64\n",
      " ................. \n",
      "Loss Amount REASON\n",
      "DebtCon    16005.163758\n",
      "HomeImp     8388.090909\n",
      "Name: TARGET_LOSS_AMT, dtype: float64\n",
      " ===============\n",
      "\n",
      "\n",
      " \n",
      " Class =  JOB\n",
      "JOB\n",
      "Mgr         767\n",
      "Office      948\n",
      "Other      2388\n",
      "ProfExe    1276\n",
      "Sales       109\n",
      "Self        193\n",
      "Name: JOB, dtype: int64\n",
      "Bad Flag JOB\n",
      "Mgr        0.233377\n",
      "Office     0.131857\n",
      "Other      0.231993\n",
      "ProfExe    0.166144\n",
      "Sales      0.348624\n",
      "Self       0.300518\n",
      "Name: TARGET_BAD_FLAG, dtype: float64\n",
      " ................. \n",
      "Loss Amount JOB\n",
      "Mgr        14141.536313\n",
      "Office     13475.304000\n",
      "Other      11570.102888\n",
      "ProfExe    14660.966981\n",
      "Sales      16421.447368\n",
      "Self       22232.362069\n",
      "Name: TARGET_LOSS_AMT, dtype: float64\n",
      " ===============\n",
      "\n",
      "\n",
      " \n"
     ]
    }
   ],
   "source": [
    "for i in objList :\n",
    "    print(\" Class = \", i )\n",
    "    g = df.groupby( i )\n",
    "    #print(g.head())\n",
    "    print( g[i].count() )\n",
    "    x = g[\"TARGET_BAD_FLAG\"].mean()\n",
    "    print( \"Bad Flag\", x )\n",
    "    print( \" ................. \")\n",
    "    x = g[\"TARGET_LOSS_AMT\"].mean()\n",
    "    print( \"Loss Amount\", x )\n",
    "    print(\" ===============\\n\\n\\n \")"
   ]
  },
  {
   "cell_type": "code",
   "execution_count": 19,
   "id": "c11d0e73",
   "metadata": {},
   "outputs": [
    {
     "data": {
      "image/png": "[encoded data removed]",
      "text/plain": [
       "<Figure size 720x576 with 2 Axes>"
      ]
     },
     "metadata": {},
     "output_type": "display_data"
    }
   ],
   "source": [
    "#Create Correlation matrix\n",
    "corr = df.corr()\n",
    "#Plot figsize\n",
    "fig, ax = plt.subplots(figsize=(10,8))\n",
    "#Generate Color Map\n",
    "colormap = sns.diverging_palette(220, 10, as_cmap=True)\n",
    "#Generate Heat Map, allow annotations and place floats in map\n",
    "sns.heatmap(corr, cmap=colormap, annot=True, fmt=\".2f\")\n",
    "#Apply xticks\n",
    "plt.xticks(range(len(corr.columns)), corr.columns);\n",
    "#Apply yticks\n",
    "plt.yticks(range(len(corr.columns)), corr.columns)\n",
    "#show plot\n",
    "plt.show()"
   ]
  },
  {
   "cell_type": "markdown",
   "id": "c6ea44ac",
   "metadata": {},
   "source": [
    "## Data Preparation"
   ]
  },
  {
   "cell_type": "markdown",
   "id": "4be727d9",
   "metadata": {},
   "source": [
    "### Missing Values Evaluation"
   ]
  },
  {
   "cell_type": "code",
   "execution_count": 20,
   "id": "23289ee0",
   "metadata": {},
   "outputs": [
    {
     "data": {
      "text/html": [
       "<div>\n",
       "<style scoped>\n",
       "    .dataframe tbody tr th:only-of-type {\n",
       "        vertical-align: middle;\n",
       "    }\n",
       "\n",
       "    .dataframe tbody tr th {\n",
       "        vertical-align: top;\n",
       "    }\n",
       "\n",
       "    .dataframe thead th {\n",
       "        text-align: right;\n",
       "    }\n",
       "</style>\n",
       "<table border=\"1\" class=\"dataframe\">\n",
       "  <thead>\n",
       "    <tr style=\"text-align: right;\">\n",
       "      <th></th>\n",
       "      <th>Variables</th>\n",
       "      <th>Missing Values</th>\n",
       "    </tr>\n",
       "  </thead>\n",
       "  <tbody>\n",
       "    <tr>\n",
       "      <th>0</th>\n",
       "      <td>TARGET_BAD_FLAG</td>\n",
       "      <td>0</td>\n",
       "    </tr>\n",
       "    <tr>\n",
       "      <th>1</th>\n",
       "      <td>TARGET_LOSS_AMT</td>\n",
       "      <td>4771</td>\n",
       "    </tr>\n",
       "    <tr>\n",
       "      <th>2</th>\n",
       "      <td>LOAN</td>\n",
       "      <td>0</td>\n",
       "    </tr>\n",
       "    <tr>\n",
       "      <th>3</th>\n",
       "      <td>MORTDUE</td>\n",
       "      <td>518</td>\n",
       "    </tr>\n",
       "    <tr>\n",
       "      <th>4</th>\n",
       "      <td>VALUE</td>\n",
       "      <td>112</td>\n",
       "    </tr>\n",
       "    <tr>\n",
       "      <th>5</th>\n",
       "      <td>REASON</td>\n",
       "      <td>252</td>\n",
       "    </tr>\n",
       "    <tr>\n",
       "      <th>6</th>\n",
       "      <td>JOB</td>\n",
       "      <td>279</td>\n",
       "    </tr>\n",
       "    <tr>\n",
       "      <th>7</th>\n",
       "      <td>YOJ</td>\n",
       "      <td>515</td>\n",
       "    </tr>\n",
       "    <tr>\n",
       "      <th>8</th>\n",
       "      <td>DEROG</td>\n",
       "      <td>708</td>\n",
       "    </tr>\n",
       "    <tr>\n",
       "      <th>9</th>\n",
       "      <td>DELINQ</td>\n",
       "      <td>580</td>\n",
       "    </tr>\n",
       "    <tr>\n",
       "      <th>10</th>\n",
       "      <td>CLAGE</td>\n",
       "      <td>308</td>\n",
       "    </tr>\n",
       "    <tr>\n",
       "      <th>11</th>\n",
       "      <td>NINQ</td>\n",
       "      <td>510</td>\n",
       "    </tr>\n",
       "    <tr>\n",
       "      <th>12</th>\n",
       "      <td>CLNO</td>\n",
       "      <td>222</td>\n",
       "    </tr>\n",
       "    <tr>\n",
       "      <th>13</th>\n",
       "      <td>DEBTINC</td>\n",
       "      <td>1267</td>\n",
       "    </tr>\n",
       "  </tbody>\n",
       "</table>\n",
       "</div>"
      ],
      "text/plain": [
       "          Variables  Missing Values\n",
       "0   TARGET_BAD_FLAG               0\n",
       "1   TARGET_LOSS_AMT            4771\n",
       "2              LOAN               0\n",
       "3           MORTDUE             518\n",
       "4             VALUE             112\n",
       "5            REASON             252\n",
       "6               JOB             279\n",
       "7               YOJ             515\n",
       "8             DEROG             708\n",
       "9            DELINQ             580\n",
       "10            CLAGE             308\n",
       "11             NINQ             510\n",
       "12             CLNO             222\n",
       "13          DEBTINC            1267"
      ]
     },
     "execution_count": 20,
     "metadata": {},
     "output_type": "execute_result"
    }
   ],
   "source": [
    "MissingData=df.isnull().sum().rename_axis('Variables').reset_index(name='Missing Values')\n",
    "MissingData"
   ]
  },
  {
   "cell_type": "code",
   "execution_count": 21,
   "id": "373dfb80",
   "metadata": {},
   "outputs": [
    {
     "data": {
      "text/plain": [
       "<AxesSubplot:>"
      ]
     },
     "execution_count": 21,
     "metadata": {},
     "output_type": "execute_result"
    },
    {
     "data": {
      "image/png": "[encoded data removed]",
      "text/plain": [
       "<Figure size 432x288 with 1 Axes>"
      ]
     },
     "metadata": {},
     "output_type": "display_data"
    }
   ],
   "source": [
    "#Graph of fields with missing values - sorted by number of missing values\n",
    "missing = df.isnull().sum()\n",
    "missing = missing[missing > 0]\n",
    "missing.sort_values(inplace=True)\n",
    "missing.plot.bar()"
   ]
  },
  {
   "cell_type": "markdown",
   "id": "2c1fcc51",
   "metadata": {},
   "source": [
    "### Overview Visualization"
   ]
  },
  {
   "cell_type": "code",
   "execution_count": 23,
   "id": "44ee5dd7",
   "metadata": {},
   "outputs": [
    {
     "data": {
      "text/plain": [
       "['LOAN',\n",
       " 'MORTDUE',\n",
       " 'VALUE',\n",
       " 'YOJ',\n",
       " 'DEROG',\n",
       " 'DELINQ',\n",
       " 'CLAGE',\n",
       " 'NINQ',\n",
       " 'CLNO',\n",
       " 'DEBTINC']"
      ]
     },
     "execution_count": 23,
     "metadata": {},
     "output_type": "execute_result"
    }
   ],
   "source": [
    "numList"
   ]
  },
  {
   "cell_type": "code",
   "execution_count": 50,
   "id": "025e6525",
   "metadata": {},
   "outputs": [
    {
     "name": "stderr",
     "output_type": "stream",
     "text": [
      "/opt/anaconda3/lib/python3.8/site-packages/seaborn/distributions.py:2557: FutureWarning: `distplot` is a deprecated function and will be removed in a future version. Please adapt your code to use either `displot` (a figure-level function with similar flexibility) or `histplot` (an axes-level function for histograms).\n",
      "  warnings.warn(msg, FutureWarning)\n"
     ]
    },
    {
     "data": {
      "text/plain": [
       "<AxesSubplot:xlabel='TARGET_BAD_FLAG', ylabel='Density'>"
      ]
     },
     "execution_count": 50,
     "metadata": {},
     "output_type": "execute_result"
    },
    {
     "data": {
      "image/png": "[encoded data removed]",
      "text/plain": [
       "<Figure size 432x288 with 1 Axes>"
      ]
     },
     "metadata": {},
     "output_type": "display_data"
    }
   ],
   "source": [
    "sns.distplot(df['TARGET_BAD_FLAG'])"
   ]
  },
  {
   "cell_type": "code",
   "execution_count": 30,
   "id": "9b7fe59e",
   "metadata": {
    "scrolled": false
   },
   "outputs": [
    {
     "name": "stderr",
     "output_type": "stream",
     "text": [
      "/opt/anaconda3/lib/python3.8/site-packages/seaborn/distributions.py:2557: FutureWarning: `distplot` is a deprecated function and will be removed in a future version. Please adapt your code to use either `displot` (a figure-level function with similar flexibility) or `histplot` (an axes-level function for histograms).\n",
      "  warnings.warn(msg, FutureWarning)\n"
     ]
    },
    {
     "data": {
      "text/plain": [
       "<AxesSubplot:xlabel='TARGET_LOSS_AMT', ylabel='Density'>"
      ]
     },
     "execution_count": 30,
     "metadata": {},
     "output_type": "execute_result"
    },
    {
     "data": {
      "image/png": "[encoded data removed]",
      "text/plain": [
       "<Figure size 432x288 with 1 Axes>"
      ]
     },
     "metadata": {},
     "output_type": "display_data"
    }
   ],
   "source": [
    "sns.distplot(df['TARGET_LOSS_AMT'])"
   ]
  },
  {
   "cell_type": "code",
   "execution_count": 39,
   "id": "5fdbbfc0",
   "metadata": {},
   "outputs": [
    {
     "name": "stderr",
     "output_type": "stream",
     "text": [
      "/opt/anaconda3/lib/python3.8/site-packages/seaborn/distributions.py:2557: FutureWarning: `distplot` is a deprecated function and will be removed in a future version. Please adapt your code to use either `displot` (a figure-level function with similar flexibility) or `histplot` (an axes-level function for histograms).\n",
      "  warnings.warn(msg, FutureWarning)\n"
     ]
    },
    {
     "data": {
      "text/plain": [
       "<AxesSubplot:xlabel='LOAN', ylabel='Density'>"
      ]
     },
     "execution_count": 39,
     "metadata": {},
     "output_type": "execute_result"
    },
    {
     "data": {
      "image/png": "[encoded data removed]",
      "text/plain": [
       "<Figure size 432x288 with 1 Axes>"
      ]
     },
     "metadata": {},
     "output_type": "display_data"
    }
   ],
   "source": [
    "sns.distplot(df['LOAN'])"
   ]
  },
  {
   "cell_type": "code",
   "execution_count": 40,
   "id": "7b7e001d",
   "metadata": {},
   "outputs": [
    {
     "name": "stderr",
     "output_type": "stream",
     "text": [
      "/opt/anaconda3/lib/python3.8/site-packages/seaborn/distributions.py:2557: FutureWarning: `distplot` is a deprecated function and will be removed in a future version. Please adapt your code to use either `displot` (a figure-level function with similar flexibility) or `histplot` (an axes-level function for histograms).\n",
      "  warnings.warn(msg, FutureWarning)\n"
     ]
    },
    {
     "data": {
      "text/plain": [
       "<AxesSubplot:xlabel='MORTDUE', ylabel='Density'>"
      ]
     },
     "execution_count": 40,
     "metadata": {},
     "output_type": "execute_result"
    },
    {
     "data": {
      "image/png": "[encoded data removed]",
      "text/plain": [
       "<Figure size 432x288 with 1 Axes>"
      ]
     },
     "metadata": {},
     "output_type": "display_data"
    }
   ],
   "source": [
    "sns.distplot(df['MORTDUE'])"
   ]
  },
  {
   "cell_type": "code",
   "execution_count": 41,
   "id": "00164fc0",
   "metadata": {},
   "outputs": [
    {
     "name": "stderr",
     "output_type": "stream",
     "text": [
      "/opt/anaconda3/lib/python3.8/site-packages/seaborn/distributions.py:2557: FutureWarning: `distplot` is a deprecated function and will be removed in a future version. Please adapt your code to use either `displot` (a figure-level function with similar flexibility) or `histplot` (an axes-level function for histograms).\n",
      "  warnings.warn(msg, FutureWarning)\n"
     ]
    },
    {
     "data": {
      "text/plain": [
       "<AxesSubplot:xlabel='VALUE', ylabel='Density'>"
      ]
     },
     "execution_count": 41,
     "metadata": {},
     "output_type": "execute_result"
    },
    {
     "data": {
      "image/png": "[encoded data removed]",
      "text/plain": [
       "<Figure size 432x288 with 1 Axes>"
      ]
     },
     "metadata": {},
     "output_type": "display_data"
    }
   ],
   "source": [
    "sns.distplot(df['VALUE'])"
   ]
  },
  {
   "cell_type": "code",
   "execution_count": 42,
   "id": "fb0582bd",
   "metadata": {},
   "outputs": [
    {
     "name": "stderr",
     "output_type": "stream",
     "text": [
      "/opt/anaconda3/lib/python3.8/site-packages/seaborn/distributions.py:2557: FutureWarning: `distplot` is a deprecated function and will be removed in a future version. Please adapt your code to use either `displot` (a figure-level function with similar flexibility) or `histplot` (an axes-level function for histograms).\n",
      "  warnings.warn(msg, FutureWarning)\n"
     ]
    },
    {
     "data": {
      "text/plain": [
       "<AxesSubplot:xlabel='YOJ', ylabel='Density'>"
      ]
     },
     "execution_count": 42,
     "metadata": {},
     "output_type": "execute_result"
    },
    {
     "data": {
      "image/png": "[encoded data removed]",
      "text/plain": [
       "<Figure size 432x288 with 1 Axes>"
      ]
     },
     "metadata": {},
     "output_type": "display_data"
    }
   ],
   "source": [
    "sns.distplot(df['YOJ'])"
   ]
  },
  {
   "cell_type": "code",
   "execution_count": 43,
   "id": "ec9e2771",
   "metadata": {},
   "outputs": [
    {
     "name": "stderr",
     "output_type": "stream",
     "text": [
      "/opt/anaconda3/lib/python3.8/site-packages/seaborn/distributions.py:2557: FutureWarning: `distplot` is a deprecated function and will be removed in a future version. Please adapt your code to use either `displot` (a figure-level function with similar flexibility) or `histplot` (an axes-level function for histograms).\n",
      "  warnings.warn(msg, FutureWarning)\n"
     ]
    },
    {
     "data": {
      "text/plain": [
       "<AxesSubplot:xlabel='DEROG', ylabel='Density'>"
      ]
     },
     "execution_count": 43,
     "metadata": {},
     "output_type": "execute_result"
    },
    {
     "data": {
      "image/png": "[encoded data removed]",
      "text/plain": [
       "<Figure size 432x288 with 1 Axes>"
      ]
     },
     "metadata": {},
     "output_type": "display_data"
    }
   ],
   "source": [
    "sns.distplot(df['DEROG'])"
   ]
  },
  {
   "cell_type": "code",
   "execution_count": 44,
   "id": "ef63cd58",
   "metadata": {},
   "outputs": [
    {
     "name": "stderr",
     "output_type": "stream",
     "text": [
      "/opt/anaconda3/lib/python3.8/site-packages/seaborn/distributions.py:2557: FutureWarning: `distplot` is a deprecated function and will be removed in a future version. Please adapt your code to use either `displot` (a figure-level function with similar flexibility) or `histplot` (an axes-level function for histograms).\n",
      "  warnings.warn(msg, FutureWarning)\n"
     ]
    },
    {
     "data": {
      "text/plain": [
       "<AxesSubplot:xlabel='DELINQ', ylabel='Density'>"
      ]
     },
     "execution_count": 44,
     "metadata": {},
     "output_type": "execute_result"
    },
    {
     "data": {
      "image/png": "[encoded data removed]",
      "text/plain": [
       "<Figure size 432x288 with 1 Axes>"
      ]
     },
     "metadata": {},
     "output_type": "display_data"
    }
   ],
   "source": [
    "sns.distplot(df['DELINQ'])"
   ]
  },
  {
   "cell_type": "code",
   "execution_count": 51,
   "id": "7d4bcf8e",
   "metadata": {},
   "outputs": [
    {
     "name": "stderr",
     "output_type": "stream",
     "text": [
      "/opt/anaconda3/lib/python3.8/site-packages/seaborn/distributions.py:2557: FutureWarning: `distplot` is a deprecated function and will be removed in a future version. Please adapt your code to use either `displot` (a figure-level function with similar flexibility) or `histplot` (an axes-level function for histograms).\n",
      "  warnings.warn(msg, FutureWarning)\n"
     ]
    },
    {
     "data": {
      "text/plain": [
       "<AxesSubplot:xlabel='CLAGE', ylabel='Density'>"
      ]
     },
     "execution_count": 51,
     "metadata": {},
     "output_type": "execute_result"
    },
    {
     "data": {
      "image/png": "[encoded data removed]",
      "text/plain": [
       "<Figure size 432x288 with 1 Axes>"
      ]
     },
     "metadata": {},
     "output_type": "display_data"
    }
   ],
   "source": [
    "sns.distplot(df['CLAGE'])"
   ]
  },
  {
   "cell_type": "code",
   "execution_count": 52,
   "id": "3e5446e5",
   "metadata": {},
   "outputs": [
    {
     "name": "stderr",
     "output_type": "stream",
     "text": [
      "/opt/anaconda3/lib/python3.8/site-packages/seaborn/distributions.py:2557: FutureWarning: `distplot` is a deprecated function and will be removed in a future version. Please adapt your code to use either `displot` (a figure-level function with similar flexibility) or `histplot` (an axes-level function for histograms).\n",
      "  warnings.warn(msg, FutureWarning)\n"
     ]
    },
    {
     "data": {
      "text/plain": [
       "<AxesSubplot:xlabel='NINQ', ylabel='Density'>"
      ]
     },
     "execution_count": 52,
     "metadata": {},
     "output_type": "execute_result"
    },
    {
     "data": {
      "image/png": "[encoded data removed]",
      "text/plain": [
       "<Figure size 432x288 with 1 Axes>"
      ]
     },
     "metadata": {},
     "output_type": "display_data"
    }
   ],
   "source": [
    "sns.distplot(df['NINQ'])"
   ]
  },
  {
   "cell_type": "code",
   "execution_count": 53,
   "id": "0c998b74",
   "metadata": {},
   "outputs": [
    {
     "name": "stderr",
     "output_type": "stream",
     "text": [
      "/opt/anaconda3/lib/python3.8/site-packages/seaborn/distributions.py:2557: FutureWarning: `distplot` is a deprecated function and will be removed in a future version. Please adapt your code to use either `displot` (a figure-level function with similar flexibility) or `histplot` (an axes-level function for histograms).\n",
      "  warnings.warn(msg, FutureWarning)\n"
     ]
    },
    {
     "data": {
      "text/plain": [
       "<AxesSubplot:xlabel='CLNO', ylabel='Density'>"
      ]
     },
     "execution_count": 53,
     "metadata": {},
     "output_type": "execute_result"
    },
    {
     "data": {
      "image/png": "[encoded data removed]",
      "text/plain": [
       "<Figure size 432x288 with 1 Axes>"
      ]
     },
     "metadata": {},
     "output_type": "display_data"
    }
   ],
   "source": [
    "sns.distplot(df['CLNO'])"
   ]
  },
  {
   "cell_type": "code",
   "execution_count": 54,
   "id": "b3628075",
   "metadata": {},
   "outputs": [
    {
     "name": "stderr",
     "output_type": "stream",
     "text": [
      "/opt/anaconda3/lib/python3.8/site-packages/seaborn/distributions.py:2557: FutureWarning: `distplot` is a deprecated function and will be removed in a future version. Please adapt your code to use either `displot` (a figure-level function with similar flexibility) or `histplot` (an axes-level function for histograms).\n",
      "  warnings.warn(msg, FutureWarning)\n"
     ]
    },
    {
     "data": {
      "text/plain": [
       "<AxesSubplot:xlabel='DEBTINC', ylabel='Density'>"
      ]
     },
     "execution_count": 54,
     "metadata": {},
     "output_type": "execute_result"
    },
    {
     "data": {
      "image/png": "[encoded data removed]",
      "text/plain": [
       "<Figure size 432x288 with 1 Axes>"
      ]
     },
     "metadata": {},
     "output_type": "display_data"
    }
   ],
   "source": [
    "sns.distplot(df['DEBTINC'])"
   ]
  },
  {
   "cell_type": "markdown",
   "id": "861196a8",
   "metadata": {},
   "source": [
    "### Missing Values in Target Variables:"
   ]
  },
  {
   "cell_type": "code",
   "execution_count": 55,
   "id": "405b3586",
   "metadata": {},
   "outputs": [],
   "source": [
    "df['IMP_TARGET_LOSS_AMT'] = df['TARGET_LOSS_AMT'].fillna(0)"
   ]
  },
  {
   "cell_type": "code",
   "execution_count": 56,
   "id": "132fc21d",
   "metadata": {
    "scrolled": true
   },
   "outputs": [
    {
     "data": {
      "text/plain": [
       "0"
      ]
     },
     "execution_count": 56,
     "metadata": {},
     "output_type": "execute_result"
    }
   ],
   "source": [
    "df['IMP_TARGET_LOSS_AMT'].isnull().sum()"
   ]
  },
  {
   "cell_type": "markdown",
   "id": "0f3b024d",
   "metadata": {},
   "source": [
    "### Missing Values in Categorical/Object Variables:"
   ]
  },
  {
   "cell_type": "code",
   "execution_count": 57,
   "id": "bcc00857",
   "metadata": {},
   "outputs": [
    {
     "data": {
      "image/png": "[encoded data removed]",
      "text/plain": [
       "<Figure size 432x288 with 1 Axes>"
      ]
     },
     "metadata": {},
     "output_type": "display_data"
    },
    {
     "data": {
      "image/png": "[encoded data removed]",
      "text/plain": [
       "<Figure size 432x288 with 1 Axes>"
      ]
     },
     "metadata": {},
     "output_type": "display_data"
    }
   ],
   "source": [
    "for i in objList :\n",
    "    x = df[ i ].value_counts(dropna=False)\n",
    "    #print( x )\n",
    "    theLabels = x.axes[0].tolist()\n",
    "    #print( theLabels )\n",
    "    theSlices = list(x)\n",
    "    #print( theSlices )\n",
    "    plt.pie( theSlices, labels=theLabels, startangle = 90, shadow=True, autopct=\"%1.1f%%\")\n",
    "    plt.title(\"Pie Chart: \" + i)\n",
    "    plt.show()"
   ]
  },
  {
   "cell_type": "markdown",
   "id": "ec68ea09",
   "metadata": {},
   "source": [
    "* While large portion of the reason for taking the loan is to consolidate debt, there could be other reasons beside debt consolidation or home improvement to take the loan; therefore, imputing NaN with mode may not truly reflect the data when there were only two options (DebtCons vs. HomeImp). Therefore, for Reason, I will impute NaN with \"Missing\".\n",
    "* For Jobs, the large portion of the jobs fall under \"Other\". Since Other is overarching word, I will impute NaN using Mode which will transform NaN values into \"Other\"."
   ]
  },
  {
   "cell_type": "code",
   "execution_count": 58,
   "id": "38a59ec0",
   "metadata": {},
   "outputs": [
    {
     "name": "stdout",
     "output_type": "stream",
     "text": [
      "IMP_REASON\n",
      "IMP_JOB\n"
     ]
    }
   ],
   "source": [
    "for i in objList :\n",
    "    if df[i].isna().sum() == 0 : continue\n",
    "    NAME = \"IMP_\"+i\n",
    "    print( NAME )\n",
    "    df[NAME] = df[i]"
   ]
  },
  {
   "cell_type": "code",
   "execution_count": 59,
   "id": "0301803b",
   "metadata": {},
   "outputs": [
    {
     "data": {
      "text/plain": [
       "DebtCon    3928\n",
       "HomeImp    1780\n",
       "Missing     252\n",
       "Name: IMP_REASON, dtype: int64"
      ]
     },
     "execution_count": 59,
     "metadata": {},
     "output_type": "execute_result"
    }
   ],
   "source": [
    "df['IMP_REASON'] = df['REASON'].fillna(\"Missing\")\n",
    "df.IMP_REASON.value_counts()"
   ]
  },
  {
   "cell_type": "code",
   "execution_count": 60,
   "id": "910a6ca9",
   "metadata": {},
   "outputs": [
    {
     "data": {
      "text/plain": [
       "Other      2667\n",
       "ProfExe    1276\n",
       "Office      948\n",
       "Mgr         767\n",
       "Self        193\n",
       "Sales       109\n",
       "Name: IMP_JOB, dtype: int64"
      ]
     },
     "execution_count": 60,
     "metadata": {},
     "output_type": "execute_result"
    }
   ],
   "source": [
    "df['IMP_JOB'] = df['JOB'].fillna(df['JOB'].mode()[0] )\n",
    "df.IMP_JOB.value_counts()"
   ]
  },
  {
   "cell_type": "markdown",
   "id": "84f5600d",
   "metadata": {},
   "source": [
    "### One Hot Encoding Transforming Categorical Variables into Numerical Variables"
   ]
  },
  {
   "cell_type": "code",
   "execution_count": 61,
   "id": "401b1772",
   "metadata": {},
   "outputs": [],
   "source": [
    "df[\"REASON_DEBTCON\"] = (df.IMP_REASON.isin( [\"DebtCon\"] ) + 0 )\n",
    "df[\"REASON_HOMEIMP\"] = (df.IMP_REASON.isin( [\"HomeImp\"] ) + 0 )\n",
    "df[\"REASON_MISSING\"] = (df.IMP_REASON.isin( [\"Missing\"] ) + 0 )"
   ]
  },
  {
   "cell_type": "code",
   "execution_count": 62,
   "id": "07b67887",
   "metadata": {},
   "outputs": [],
   "source": [
    "df[\"JOB_Mgr\"] = (df.IMP_JOB.isin( [\"Mgr\"] ) + 0 )\n",
    "df[\"JOB_Office\"] = (df.IMP_JOB.isin( [\"Office\"] ) + 0 )\n",
    "df[\"JOB_Other\"] = (df.IMP_JOB.isin( [\"Other\"] ) + 0 )\n",
    "df[\"JOB_ProfExe\"] = (df.IMP_JOB.isin( [\"ProfExe\"] ) + 0 )\n",
    "df[\"JOB_Sales\"] = (df.IMP_JOB.isin( [\"Sales\"] ) + 0 )\n",
    "df[\"JOB_Self\"] = (df.IMP_JOB.isin( [\"Self\"] ) + 0 )"
   ]
  },
  {
   "cell_type": "code",
   "execution_count": 63,
   "id": "e7802ed7",
   "metadata": {},
   "outputs": [],
   "source": [
    "#Drop older columns:\n",
    "df = df.drop( \"TARGET_LOSS_AMT\", axis=1 )\n",
    "df = df.drop( \"REASON\", axis=1 )\n",
    "df = df.drop( \"IMP_REASON\", axis=1 )\n",
    "df = df.drop( \"JOB\", axis=1 )\n",
    "df = df.drop( \"IMP_JOB\", axis=1 )"
   ]
  },
  {
   "cell_type": "code",
   "execution_count": 64,
   "id": "9b6855cd",
   "metadata": {},
   "outputs": [
    {
     "data": {
      "text/html": [
       "<div>\n",
       "<style scoped>\n",
       "    .dataframe tbody tr th:only-of-type {\n",
       "        vertical-align: middle;\n",
       "    }\n",
       "\n",
       "    .dataframe tbody tr th {\n",
       "        vertical-align: top;\n",
       "    }\n",
       "\n",
       "    .dataframe thead th {\n",
       "        text-align: right;\n",
       "    }\n",
       "</style>\n",
       "<table border=\"1\" class=\"dataframe\">\n",
       "  <thead>\n",
       "    <tr style=\"text-align: right;\">\n",
       "      <th></th>\n",
       "      <th>TARGET_BAD_FLAG</th>\n",
       "      <th>LOAN</th>\n",
       "      <th>MORTDUE</th>\n",
       "      <th>VALUE</th>\n",
       "      <th>YOJ</th>\n",
       "      <th>DEROG</th>\n",
       "      <th>DELINQ</th>\n",
       "      <th>CLAGE</th>\n",
       "      <th>NINQ</th>\n",
       "      <th>CLNO</th>\n",
       "      <th>...</th>\n",
       "      <th>IMP_TARGET_LOSS_AMT</th>\n",
       "      <th>REASON_DEBTCON</th>\n",
       "      <th>REASON_HOMEIMP</th>\n",
       "      <th>REASON_MISSING</th>\n",
       "      <th>JOB_Mgr</th>\n",
       "      <th>JOB_Office</th>\n",
       "      <th>JOB_Other</th>\n",
       "      <th>JOB_ProfExe</th>\n",
       "      <th>JOB_Sales</th>\n",
       "      <th>JOB_Self</th>\n",
       "    </tr>\n",
       "  </thead>\n",
       "  <tbody>\n",
       "    <tr>\n",
       "      <th>0</th>\n",
       "      <td>1</td>\n",
       "      <td>1100</td>\n",
       "      <td>25860.0</td>\n",
       "      <td>39025.0</td>\n",
       "      <td>10.5</td>\n",
       "      <td>0.0</td>\n",
       "      <td>0.0</td>\n",
       "      <td>94.366667</td>\n",
       "      <td>1.0</td>\n",
       "      <td>9.0</td>\n",
       "      <td>...</td>\n",
       "      <td>641.0</td>\n",
       "      <td>0</td>\n",
       "      <td>1</td>\n",
       "      <td>0</td>\n",
       "      <td>0</td>\n",
       "      <td>0</td>\n",
       "      <td>1</td>\n",
       "      <td>0</td>\n",
       "      <td>0</td>\n",
       "      <td>0</td>\n",
       "    </tr>\n",
       "    <tr>\n",
       "      <th>1</th>\n",
       "      <td>1</td>\n",
       "      <td>1300</td>\n",
       "      <td>70053.0</td>\n",
       "      <td>68400.0</td>\n",
       "      <td>7.0</td>\n",
       "      <td>0.0</td>\n",
       "      <td>2.0</td>\n",
       "      <td>121.833333</td>\n",
       "      <td>0.0</td>\n",
       "      <td>14.0</td>\n",
       "      <td>...</td>\n",
       "      <td>1109.0</td>\n",
       "      <td>0</td>\n",
       "      <td>1</td>\n",
       "      <td>0</td>\n",
       "      <td>0</td>\n",
       "      <td>0</td>\n",
       "      <td>1</td>\n",
       "      <td>0</td>\n",
       "      <td>0</td>\n",
       "      <td>0</td>\n",
       "    </tr>\n",
       "    <tr>\n",
       "      <th>2</th>\n",
       "      <td>1</td>\n",
       "      <td>1500</td>\n",
       "      <td>13500.0</td>\n",
       "      <td>16700.0</td>\n",
       "      <td>4.0</td>\n",
       "      <td>0.0</td>\n",
       "      <td>0.0</td>\n",
       "      <td>149.466667</td>\n",
       "      <td>1.0</td>\n",
       "      <td>10.0</td>\n",
       "      <td>...</td>\n",
       "      <td>767.0</td>\n",
       "      <td>0</td>\n",
       "      <td>1</td>\n",
       "      <td>0</td>\n",
       "      <td>0</td>\n",
       "      <td>0</td>\n",
       "      <td>1</td>\n",
       "      <td>0</td>\n",
       "      <td>0</td>\n",
       "      <td>0</td>\n",
       "    </tr>\n",
       "    <tr>\n",
       "      <th>3</th>\n",
       "      <td>1</td>\n",
       "      <td>1500</td>\n",
       "      <td>NaN</td>\n",
       "      <td>NaN</td>\n",
       "      <td>NaN</td>\n",
       "      <td>NaN</td>\n",
       "      <td>NaN</td>\n",
       "      <td>NaN</td>\n",
       "      <td>NaN</td>\n",
       "      <td>NaN</td>\n",
       "      <td>...</td>\n",
       "      <td>1425.0</td>\n",
       "      <td>0</td>\n",
       "      <td>0</td>\n",
       "      <td>1</td>\n",
       "      <td>0</td>\n",
       "      <td>0</td>\n",
       "      <td>1</td>\n",
       "      <td>0</td>\n",
       "      <td>0</td>\n",
       "      <td>0</td>\n",
       "    </tr>\n",
       "    <tr>\n",
       "      <th>4</th>\n",
       "      <td>0</td>\n",
       "      <td>1700</td>\n",
       "      <td>97800.0</td>\n",
       "      <td>112000.0</td>\n",
       "      <td>3.0</td>\n",
       "      <td>0.0</td>\n",
       "      <td>0.0</td>\n",
       "      <td>93.333333</td>\n",
       "      <td>0.0</td>\n",
       "      <td>14.0</td>\n",
       "      <td>...</td>\n",
       "      <td>0.0</td>\n",
       "      <td>0</td>\n",
       "      <td>1</td>\n",
       "      <td>0</td>\n",
       "      <td>0</td>\n",
       "      <td>1</td>\n",
       "      <td>0</td>\n",
       "      <td>0</td>\n",
       "      <td>0</td>\n",
       "      <td>0</td>\n",
       "    </tr>\n",
       "  </tbody>\n",
       "</table>\n",
       "<p>5 rows × 21 columns</p>\n",
       "</div>"
      ],
      "text/plain": [
       "   TARGET_BAD_FLAG  LOAN  MORTDUE     VALUE   YOJ  DEROG  DELINQ       CLAGE  \\\n",
       "0                1  1100  25860.0   39025.0  10.5    0.0     0.0   94.366667   \n",
       "1                1  1300  70053.0   68400.0   7.0    0.0     2.0  121.833333   \n",
       "2                1  1500  13500.0   16700.0   4.0    0.0     0.0  149.466667   \n",
       "3                1  1500      NaN       NaN   NaN    NaN     NaN         NaN   \n",
       "4                0  1700  97800.0  112000.0   3.0    0.0     0.0   93.333333   \n",
       "\n",
       "   NINQ  CLNO  ...  IMP_TARGET_LOSS_AMT  REASON_DEBTCON  REASON_HOMEIMP  \\\n",
       "0   1.0   9.0  ...                641.0               0               1   \n",
       "1   0.0  14.0  ...               1109.0               0               1   \n",
       "2   1.0  10.0  ...                767.0               0               1   \n",
       "3   NaN   NaN  ...               1425.0               0               0   \n",
       "4   0.0  14.0  ...                  0.0               0               1   \n",
       "\n",
       "   REASON_MISSING  JOB_Mgr  JOB_Office  JOB_Other  JOB_ProfExe  JOB_Sales  \\\n",
       "0               0        0           0          1            0          0   \n",
       "1               0        0           0          1            0          0   \n",
       "2               0        0           0          1            0          0   \n",
       "3               1        0           0          1            0          0   \n",
       "4               0        0           1          0            0          0   \n",
       "\n",
       "   JOB_Self  \n",
       "0         0  \n",
       "1         0  \n",
       "2         0  \n",
       "3         0  \n",
       "4         0  \n",
       "\n",
       "[5 rows x 21 columns]"
      ]
     },
     "execution_count": 64,
     "metadata": {},
     "output_type": "execute_result"
    }
   ],
   "source": [
    "df.head()"
   ]
  },
  {
   "cell_type": "markdown",
   "id": "9694e7d1",
   "metadata": {},
   "source": [
    "### Missing Values in Numerical Variables:"
   ]
  },
  {
   "cell_type": "code",
   "execution_count": 65,
   "id": "608cfc79",
   "metadata": {},
   "outputs": [
    {
     "name": "stdout",
     "output_type": "stream",
     "text": [
      "<class 'pandas.core.frame.DataFrame'>\n",
      "RangeIndex: 5960 entries, 0 to 5959\n",
      "Data columns (total 21 columns):\n",
      " #   Column               Non-Null Count  Dtype  \n",
      "---  ------               --------------  -----  \n",
      " 0   TARGET_BAD_FLAG      5960 non-null   int64  \n",
      " 1   LOAN                 5960 non-null   int64  \n",
      " 2   MORTDUE              5442 non-null   float64\n",
      " 3   VALUE                5848 non-null   float64\n",
      " 4   YOJ                  5445 non-null   float64\n",
      " 5   DEROG                5252 non-null   float64\n",
      " 6   DELINQ               5380 non-null   float64\n",
      " 7   CLAGE                5652 non-null   float64\n",
      " 8   NINQ                 5450 non-null   float64\n",
      " 9   CLNO                 5738 non-null   float64\n",
      " 10  DEBTINC              4693 non-null   float64\n",
      " 11  IMP_TARGET_LOSS_AMT  5960 non-null   float64\n",
      " 12  REASON_DEBTCON       5960 non-null   int64  \n",
      " 13  REASON_HOMEIMP       5960 non-null   int64  \n",
      " 14  REASON_MISSING       5960 non-null   int64  \n",
      " 15  JOB_Mgr              5960 non-null   int64  \n",
      " 16  JOB_Office           5960 non-null   int64  \n",
      " 17  JOB_Other            5960 non-null   int64  \n",
      " 18  JOB_ProfExe          5960 non-null   int64  \n",
      " 19  JOB_Sales            5960 non-null   int64  \n",
      " 20  JOB_Self             5960 non-null   int64  \n",
      "dtypes: float64(10), int64(11)\n",
      "memory usage: 977.9 KB\n"
     ]
    }
   ],
   "source": [
    "df.info()"
   ]
  },
  {
   "cell_type": "code",
   "execution_count": 66,
   "id": "1473f5d4",
   "metadata": {},
   "outputs": [
    {
     "name": "stdout",
     "output_type": "stream",
     "text": [
      "['LOAN', 'MORTDUE', 'VALUE', 'YOJ', 'DEROG', 'DELINQ', 'CLAGE', 'NINQ', 'CLNO', 'DEBTINC']\n"
     ]
    }
   ],
   "source": [
    "print(numList)"
   ]
  },
  {
   "cell_type": "code",
   "execution_count": 67,
   "id": "bc900b8d",
   "metadata": {},
   "outputs": [],
   "source": [
    "for i in numList :    \n",
    "    if df[i].isna().sum() == 0 : continue    \n",
    "    FLAG = \"M_\" + i    \n",
    "    IMP = \"IMP_\" + i      \n",
    "    df[ FLAG ] = df[i].isna() + 0    \n",
    "    df[ IMP ] = df[ i ]    \n",
    "    df.loc[ df[IMP].isna(), IMP ] = df[i].median()    \n",
    "    df = df.drop( i, axis=1 )"
   ]
  },
  {
   "cell_type": "code",
   "execution_count": 68,
   "id": "532842e9",
   "metadata": {},
   "outputs": [
    {
     "name": "stdout",
     "output_type": "stream",
     "text": [
      "<class 'pandas.core.frame.DataFrame'>\n",
      "RangeIndex: 5960 entries, 0 to 5959\n",
      "Data columns (total 30 columns):\n",
      " #   Column               Non-Null Count  Dtype  \n",
      "---  ------               --------------  -----  \n",
      " 0   TARGET_BAD_FLAG      5960 non-null   int64  \n",
      " 1   LOAN                 5960 non-null   int64  \n",
      " 2   IMP_TARGET_LOSS_AMT  5960 non-null   float64\n",
      " 3   REASON_DEBTCON       5960 non-null   int64  \n",
      " 4   REASON_HOMEIMP       5960 non-null   int64  \n",
      " 5   REASON_MISSING       5960 non-null   int64  \n",
      " 6   JOB_Mgr              5960 non-null   int64  \n",
      " 7   JOB_Office           5960 non-null   int64  \n",
      " 8   JOB_Other            5960 non-null   int64  \n",
      " 9   JOB_ProfExe          5960 non-null   int64  \n",
      " 10  JOB_Sales            5960 non-null   int64  \n",
      " 11  JOB_Self             5960 non-null   int64  \n",
      " 12  M_MORTDUE            5960 non-null   int64  \n",
      " 13  IMP_MORTDUE          5960 non-null   float64\n",
      " 14  M_VALUE              5960 non-null   int64  \n",
      " 15  IMP_VALUE            5960 non-null   float64\n",
      " 16  M_YOJ                5960 non-null   int64  \n",
      " 17  IMP_YOJ              5960 non-null   float64\n",
      " 18  M_DEROG              5960 non-null   int64  \n",
      " 19  IMP_DEROG            5960 non-null   float64\n",
      " 20  M_DELINQ             5960 non-null   int64  \n",
      " 21  IMP_DELINQ           5960 non-null   float64\n",
      " 22  M_CLAGE              5960 non-null   int64  \n",
      " 23  IMP_CLAGE            5960 non-null   float64\n",
      " 24  M_NINQ               5960 non-null   int64  \n",
      " 25  IMP_NINQ             5960 non-null   float64\n",
      " 26  M_CLNO               5960 non-null   int64  \n",
      " 27  IMP_CLNO             5960 non-null   float64\n",
      " 28  M_DEBTINC            5960 non-null   int64  \n",
      " 29  IMP_DEBTINC          5960 non-null   float64\n",
      "dtypes: float64(10), int64(20)\n",
      "memory usage: 1.4 MB\n"
     ]
    }
   ],
   "source": [
    "df.info()"
   ]
  },
  {
   "cell_type": "code",
   "execution_count": 69,
   "id": "20d20630",
   "metadata": {},
   "outputs": [
    {
     "data": {
      "text/html": [
       "<div>\n",
       "<style scoped>\n",
       "    .dataframe tbody tr th:only-of-type {\n",
       "        vertical-align: middle;\n",
       "    }\n",
       "\n",
       "    .dataframe tbody tr th {\n",
       "        vertical-align: top;\n",
       "    }\n",
       "\n",
       "    .dataframe thead th {\n",
       "        text-align: right;\n",
       "    }\n",
       "</style>\n",
       "<table border=\"1\" class=\"dataframe\">\n",
       "  <thead>\n",
       "    <tr style=\"text-align: right;\">\n",
       "      <th></th>\n",
       "      <th>0</th>\n",
       "      <th>1</th>\n",
       "      <th>2</th>\n",
       "      <th>3</th>\n",
       "      <th>4</th>\n",
       "    </tr>\n",
       "  </thead>\n",
       "  <tbody>\n",
       "    <tr>\n",
       "      <th>TARGET_BAD_FLAG</th>\n",
       "      <td>1.000000</td>\n",
       "      <td>1.000000</td>\n",
       "      <td>1.000000</td>\n",
       "      <td>1.000000</td>\n",
       "      <td>0.000000</td>\n",
       "    </tr>\n",
       "    <tr>\n",
       "      <th>LOAN</th>\n",
       "      <td>1100.000000</td>\n",
       "      <td>1300.000000</td>\n",
       "      <td>1500.000000</td>\n",
       "      <td>1500.000000</td>\n",
       "      <td>1700.000000</td>\n",
       "    </tr>\n",
       "    <tr>\n",
       "      <th>IMP_TARGET_LOSS_AMT</th>\n",
       "      <td>641.000000</td>\n",
       "      <td>1109.000000</td>\n",
       "      <td>767.000000</td>\n",
       "      <td>1425.000000</td>\n",
       "      <td>0.000000</td>\n",
       "    </tr>\n",
       "    <tr>\n",
       "      <th>REASON_DEBTCON</th>\n",
       "      <td>0.000000</td>\n",
       "      <td>0.000000</td>\n",
       "      <td>0.000000</td>\n",
       "      <td>0.000000</td>\n",
       "      <td>0.000000</td>\n",
       "    </tr>\n",
       "    <tr>\n",
       "      <th>REASON_HOMEIMP</th>\n",
       "      <td>1.000000</td>\n",
       "      <td>1.000000</td>\n",
       "      <td>1.000000</td>\n",
       "      <td>0.000000</td>\n",
       "      <td>1.000000</td>\n",
       "    </tr>\n",
       "    <tr>\n",
       "      <th>REASON_MISSING</th>\n",
       "      <td>0.000000</td>\n",
       "      <td>0.000000</td>\n",
       "      <td>0.000000</td>\n",
       "      <td>1.000000</td>\n",
       "      <td>0.000000</td>\n",
       "    </tr>\n",
       "    <tr>\n",
       "      <th>JOB_Mgr</th>\n",
       "      <td>0.000000</td>\n",
       "      <td>0.000000</td>\n",
       "      <td>0.000000</td>\n",
       "      <td>0.000000</td>\n",
       "      <td>0.000000</td>\n",
       "    </tr>\n",
       "    <tr>\n",
       "      <th>JOB_Office</th>\n",
       "      <td>0.000000</td>\n",
       "      <td>0.000000</td>\n",
       "      <td>0.000000</td>\n",
       "      <td>0.000000</td>\n",
       "      <td>1.000000</td>\n",
       "    </tr>\n",
       "    <tr>\n",
       "      <th>JOB_Other</th>\n",
       "      <td>1.000000</td>\n",
       "      <td>1.000000</td>\n",
       "      <td>1.000000</td>\n",
       "      <td>1.000000</td>\n",
       "      <td>0.000000</td>\n",
       "    </tr>\n",
       "    <tr>\n",
       "      <th>JOB_ProfExe</th>\n",
       "      <td>0.000000</td>\n",
       "      <td>0.000000</td>\n",
       "      <td>0.000000</td>\n",
       "      <td>0.000000</td>\n",
       "      <td>0.000000</td>\n",
       "    </tr>\n",
       "    <tr>\n",
       "      <th>JOB_Sales</th>\n",
       "      <td>0.000000</td>\n",
       "      <td>0.000000</td>\n",
       "      <td>0.000000</td>\n",
       "      <td>0.000000</td>\n",
       "      <td>0.000000</td>\n",
       "    </tr>\n",
       "    <tr>\n",
       "      <th>JOB_Self</th>\n",
       "      <td>0.000000</td>\n",
       "      <td>0.000000</td>\n",
       "      <td>0.000000</td>\n",
       "      <td>0.000000</td>\n",
       "      <td>0.000000</td>\n",
       "    </tr>\n",
       "    <tr>\n",
       "      <th>M_MORTDUE</th>\n",
       "      <td>0.000000</td>\n",
       "      <td>0.000000</td>\n",
       "      <td>0.000000</td>\n",
       "      <td>1.000000</td>\n",
       "      <td>0.000000</td>\n",
       "    </tr>\n",
       "    <tr>\n",
       "      <th>IMP_MORTDUE</th>\n",
       "      <td>25860.000000</td>\n",
       "      <td>70053.000000</td>\n",
       "      <td>13500.000000</td>\n",
       "      <td>65019.000000</td>\n",
       "      <td>97800.000000</td>\n",
       "    </tr>\n",
       "    <tr>\n",
       "      <th>M_VALUE</th>\n",
       "      <td>0.000000</td>\n",
       "      <td>0.000000</td>\n",
       "      <td>0.000000</td>\n",
       "      <td>1.000000</td>\n",
       "      <td>0.000000</td>\n",
       "    </tr>\n",
       "    <tr>\n",
       "      <th>IMP_VALUE</th>\n",
       "      <td>39025.000000</td>\n",
       "      <td>68400.000000</td>\n",
       "      <td>16700.000000</td>\n",
       "      <td>89235.500000</td>\n",
       "      <td>112000.000000</td>\n",
       "    </tr>\n",
       "    <tr>\n",
       "      <th>M_YOJ</th>\n",
       "      <td>0.000000</td>\n",
       "      <td>0.000000</td>\n",
       "      <td>0.000000</td>\n",
       "      <td>1.000000</td>\n",
       "      <td>0.000000</td>\n",
       "    </tr>\n",
       "    <tr>\n",
       "      <th>IMP_YOJ</th>\n",
       "      <td>10.500000</td>\n",
       "      <td>7.000000</td>\n",
       "      <td>4.000000</td>\n",
       "      <td>7.000000</td>\n",
       "      <td>3.000000</td>\n",
       "    </tr>\n",
       "    <tr>\n",
       "      <th>M_DEROG</th>\n",
       "      <td>0.000000</td>\n",
       "      <td>0.000000</td>\n",
       "      <td>0.000000</td>\n",
       "      <td>1.000000</td>\n",
       "      <td>0.000000</td>\n",
       "    </tr>\n",
       "    <tr>\n",
       "      <th>IMP_DEROG</th>\n",
       "      <td>0.000000</td>\n",
       "      <td>0.000000</td>\n",
       "      <td>0.000000</td>\n",
       "      <td>0.000000</td>\n",
       "      <td>0.000000</td>\n",
       "    </tr>\n",
       "    <tr>\n",
       "      <th>M_DELINQ</th>\n",
       "      <td>0.000000</td>\n",
       "      <td>0.000000</td>\n",
       "      <td>0.000000</td>\n",
       "      <td>1.000000</td>\n",
       "      <td>0.000000</td>\n",
       "    </tr>\n",
       "    <tr>\n",
       "      <th>IMP_DELINQ</th>\n",
       "      <td>0.000000</td>\n",
       "      <td>2.000000</td>\n",
       "      <td>0.000000</td>\n",
       "      <td>0.000000</td>\n",
       "      <td>0.000000</td>\n",
       "    </tr>\n",
       "    <tr>\n",
       "      <th>M_CLAGE</th>\n",
       "      <td>0.000000</td>\n",
       "      <td>0.000000</td>\n",
       "      <td>0.000000</td>\n",
       "      <td>1.000000</td>\n",
       "      <td>0.000000</td>\n",
       "    </tr>\n",
       "    <tr>\n",
       "      <th>IMP_CLAGE</th>\n",
       "      <td>94.366667</td>\n",
       "      <td>121.833333</td>\n",
       "      <td>149.466667</td>\n",
       "      <td>173.466667</td>\n",
       "      <td>93.333333</td>\n",
       "    </tr>\n",
       "    <tr>\n",
       "      <th>M_NINQ</th>\n",
       "      <td>0.000000</td>\n",
       "      <td>0.000000</td>\n",
       "      <td>0.000000</td>\n",
       "      <td>1.000000</td>\n",
       "      <td>0.000000</td>\n",
       "    </tr>\n",
       "    <tr>\n",
       "      <th>IMP_NINQ</th>\n",
       "      <td>1.000000</td>\n",
       "      <td>0.000000</td>\n",
       "      <td>1.000000</td>\n",
       "      <td>1.000000</td>\n",
       "      <td>0.000000</td>\n",
       "    </tr>\n",
       "    <tr>\n",
       "      <th>M_CLNO</th>\n",
       "      <td>0.000000</td>\n",
       "      <td>0.000000</td>\n",
       "      <td>0.000000</td>\n",
       "      <td>1.000000</td>\n",
       "      <td>0.000000</td>\n",
       "    </tr>\n",
       "    <tr>\n",
       "      <th>IMP_CLNO</th>\n",
       "      <td>9.000000</td>\n",
       "      <td>14.000000</td>\n",
       "      <td>10.000000</td>\n",
       "      <td>20.000000</td>\n",
       "      <td>14.000000</td>\n",
       "    </tr>\n",
       "    <tr>\n",
       "      <th>M_DEBTINC</th>\n",
       "      <td>1.000000</td>\n",
       "      <td>1.000000</td>\n",
       "      <td>1.000000</td>\n",
       "      <td>1.000000</td>\n",
       "      <td>1.000000</td>\n",
       "    </tr>\n",
       "    <tr>\n",
       "      <th>IMP_DEBTINC</th>\n",
       "      <td>34.818262</td>\n",
       "      <td>34.818262</td>\n",
       "      <td>34.818262</td>\n",
       "      <td>34.818262</td>\n",
       "      <td>34.818262</td>\n",
       "    </tr>\n",
       "  </tbody>\n",
       "</table>\n",
       "</div>"
      ],
      "text/plain": [
       "                                0             1             2             3  \\\n",
       "TARGET_BAD_FLAG          1.000000      1.000000      1.000000      1.000000   \n",
       "LOAN                  1100.000000   1300.000000   1500.000000   1500.000000   \n",
       "IMP_TARGET_LOSS_AMT    641.000000   1109.000000    767.000000   1425.000000   \n",
       "REASON_DEBTCON           0.000000      0.000000      0.000000      0.000000   \n",
       "REASON_HOMEIMP           1.000000      1.000000      1.000000      0.000000   \n",
       "REASON_MISSING           0.000000      0.000000      0.000000      1.000000   \n",
       "JOB_Mgr                  0.000000      0.000000      0.000000      0.000000   \n",
       "JOB_Office               0.000000      0.000000      0.000000      0.000000   \n",
       "JOB_Other                1.000000      1.000000      1.000000      1.000000   \n",
       "JOB_ProfExe              0.000000      0.000000      0.000000      0.000000   \n",
       "JOB_Sales                0.000000      0.000000      0.000000      0.000000   \n",
       "JOB_Self                 0.000000      0.000000      0.000000      0.000000   \n",
       "M_MORTDUE                0.000000      0.000000      0.000000      1.000000   \n",
       "IMP_MORTDUE          25860.000000  70053.000000  13500.000000  65019.000000   \n",
       "M_VALUE                  0.000000      0.000000      0.000000      1.000000   \n",
       "IMP_VALUE            39025.000000  68400.000000  16700.000000  89235.500000   \n",
       "M_YOJ                    0.000000      0.000000      0.000000      1.000000   \n",
       "IMP_YOJ                 10.500000      7.000000      4.000000      7.000000   \n",
       "M_DEROG                  0.000000      0.000000      0.000000      1.000000   \n",
       "IMP_DEROG                0.000000      0.000000      0.000000      0.000000   \n",
       "M_DELINQ                 0.000000      0.000000      0.000000      1.000000   \n",
       "IMP_DELINQ               0.000000      2.000000      0.000000      0.000000   \n",
       "M_CLAGE                  0.000000      0.000000      0.000000      1.000000   \n",
       "IMP_CLAGE               94.366667    121.833333    149.466667    173.466667   \n",
       "M_NINQ                   0.000000      0.000000      0.000000      1.000000   \n",
       "IMP_NINQ                 1.000000      0.000000      1.000000      1.000000   \n",
       "M_CLNO                   0.000000      0.000000      0.000000      1.000000   \n",
       "IMP_CLNO                 9.000000     14.000000     10.000000     20.000000   \n",
       "M_DEBTINC                1.000000      1.000000      1.000000      1.000000   \n",
       "IMP_DEBTINC             34.818262     34.818262     34.818262     34.818262   \n",
       "\n",
       "                                 4  \n",
       "TARGET_BAD_FLAG           0.000000  \n",
       "LOAN                   1700.000000  \n",
       "IMP_TARGET_LOSS_AMT       0.000000  \n",
       "REASON_DEBTCON            0.000000  \n",
       "REASON_HOMEIMP            1.000000  \n",
       "REASON_MISSING            0.000000  \n",
       "JOB_Mgr                   0.000000  \n",
       "JOB_Office                1.000000  \n",
       "JOB_Other                 0.000000  \n",
       "JOB_ProfExe               0.000000  \n",
       "JOB_Sales                 0.000000  \n",
       "JOB_Self                  0.000000  \n",
       "M_MORTDUE                 0.000000  \n",
       "IMP_MORTDUE           97800.000000  \n",
       "M_VALUE                   0.000000  \n",
       "IMP_VALUE            112000.000000  \n",
       "M_YOJ                     0.000000  \n",
       "IMP_YOJ                   3.000000  \n",
       "M_DEROG                   0.000000  \n",
       "IMP_DEROG                 0.000000  \n",
       "M_DELINQ                  0.000000  \n",
       "IMP_DELINQ                0.000000  \n",
       "M_CLAGE                   0.000000  \n",
       "IMP_CLAGE                93.333333  \n",
       "M_NINQ                    0.000000  \n",
       "IMP_NINQ                  0.000000  \n",
       "M_CLNO                    0.000000  \n",
       "IMP_CLNO                 14.000000  \n",
       "M_DEBTINC                 1.000000  \n",
       "IMP_DEBTINC              34.818262  "
      ]
     },
     "execution_count": 69,
     "metadata": {},
     "output_type": "execute_result"
    }
   ],
   "source": [
    "df.head().T"
   ]
  },
  {
   "cell_type": "code",
   "execution_count": 70,
   "id": "e58ee62c",
   "metadata": {},
   "outputs": [
    {
     "data": {
      "image/png": "[encoded data removed]",
      "text/plain": [
       "<Figure size 576x1008 with 2 Axes>"
      ]
     },
     "metadata": {},
     "output_type": "display_data"
    }
   ],
   "source": [
    "plt.figure(figsize=(8, 14))\n",
    "heatmap = sns.heatmap(df.corr()[['TARGET_BAD_FLAG']].sort_values(by='TARGET_BAD_FLAG', ascending=False), vmin=-1, vmax=1, annot=True, cmap='BrBG')\n",
    "heatmap.set_title('Features Correlating with Target Bad Flag', fontdict={'fontsize':16}, pad=16);"
   ]
  },
  {
   "cell_type": "code",
   "execution_count": 71,
   "id": "dde33abe",
   "metadata": {
    "scrolled": false
   },
   "outputs": [
    {
     "data": {
      "image/png": "[encoded data removed]",
      "text/plain": [
       "<Figure size 576x1008 with 2 Axes>"
      ]
     },
     "metadata": {},
     "output_type": "display_data"
    }
   ],
   "source": [
    "plt.figure(figsize=(8, 14))\n",
    "heatmap = sns.heatmap(df.corr()[['IMP_TARGET_LOSS_AMT']].sort_values(by='IMP_TARGET_LOSS_AMT', ascending=False), vmin=-1, vmax=1, annot=True, cmap='BrBG')\n",
    "heatmap.set_title('Features Correlating with Target Loss Amount', fontdict={'fontsize':16}, pad=16);"
   ]
  },
  {
   "cell_type": "code",
   "execution_count": null,
   "id": "371dcd74",
   "metadata": {},
   "outputs": [],
   "source": []
  }
 ],
 "metadata": {
  "kernelspec": {
   "display_name": "Python 3",
   "language": "python",
   "name": "python3"
  },
  "language_info": {
   "codemirror_mode": {
    "name": "ipython",
    "version": 3
   },
   "file_extension": ".py",
   "mimetype": "text/x-python",
   "name": "python",
   "nbconvert_exporter": "python",
   "pygments_lexer": "ipython3",
   "version": "3.8.10"
  }
 },
 "nbformat": 4,
 "nbformat_minor": 5
}
